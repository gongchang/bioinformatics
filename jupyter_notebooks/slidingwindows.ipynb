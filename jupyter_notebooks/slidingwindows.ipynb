{
 "metadata": {
  "name": ""
 },
 "nbformat": 3,
 "nbformat_minor": 0,
 "worksheets": [
  {
   "cells": [
    {
     "cell_type": "code",
     "collapsed": false,
     "input": [
      "%%writefile slidingwindow.py\n",
      "import sys\n",
      "def slidingwindow(sequence,winsize,step):\n",
      "    it=iter(sequence)\n",
      "    num_of_chunks=((len(sequence)-winsize)/step)+1\n",
      "    for i in range(0,num_of_chunks*step,step):\n",
      "        yield sequence[i:i+winsize]\n",
      "sequence=sys.argv[1]   \n",
      "#sequence=\"ATGCGCCGTGCAACATCAG\"\n",
      "winsize=6\n",
      "step=1\n",
      "chunks=slidingwindow(sequence,winsize,step)\n",
      "for chunk in chunks:\n",
      "    print chunk"
     ],
     "language": "python",
     "metadata": {},
     "outputs": [
      {
       "output_type": "stream",
       "stream": "stdout",
       "text": [
        "Overwriting slidingwindow.py\n"
       ]
      }
     ],
     "prompt_number": 7
    },
    {
     "cell_type": "code",
     "collapsed": false,
     "input": [
      "%load slidingwindow.py"
     ],
     "language": "python",
     "metadata": {},
     "outputs": [],
     "prompt_number": 8
    },
    {
     "cell_type": "code",
     "collapsed": false,
     "input": [
      "import sys\n",
      "def slidingwindow(sequence,winsize,step):\n",
      "    it=iter(sequence)\n",
      "    num_of_chunks=((len(sequence)-winsize)/step)+1\n",
      "    for i in range(0,num_of_chunks*step,step):\n",
      "        yield sequence[i:i+winsize]\n",
      "sequence=sys.argv[1]   \n",
      "#sequence=\"ATGCGCCGTGCAACATCAG\"\n",
      "winsize=6\n",
      "step=1\n",
      "chunks=slidingwindow(sequence,winsize,step)\n",
      "for chunk in chunks:\n",
      "    print chunk"
     ],
     "language": "python",
     "metadata": {},
     "outputs": [],
     "prompt_number": 10
    },
    {
     "cell_type": "code",
     "collapsed": false,
     "input": [
      "%%bash\n",
      "python slidingwindow.py ATGCGGGCGTG"
     ],
     "language": "python",
     "metadata": {},
     "outputs": [
      {
       "output_type": "stream",
       "stream": "stdout",
       "text": [
        "ATGCGG\n",
        "TGCGGG\n",
        "GCGGGC\n",
        "CGGGCG\n",
        "GGGCGT\n",
        "GGCGTG\n"
       ]
      }
     ],
     "prompt_number": 11
    },
    {
     "cell_type": "code",
     "collapsed": false,
     "input": [],
     "language": "python",
     "metadata": {},
     "outputs": []
    }
   ],
   "metadata": {}
  }
 ]
}