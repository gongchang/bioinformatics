{
 "metadata": {
  "name": ""
 },
 "nbformat": 3,
 "nbformat_minor": 0,
 "worksheets": [
  {
   "cells": [
    {
     "cell_type": "code",
     "collapsed": false,
     "input": [
      "def binary_find(chrom,num,dic_con):\n",
      "    \"\"\"chrom needs to be str,\n",
      "       num needs to be integer or float\n",
      "    \"\"\"\n",
      "    length=len(dic_con[chrom])\n",
      "    first=0\n",
      "    last=length-1\n",
      "    while first<=last:\n",
      "        mid=(first+last)/2\n",
      "        if dic_con[chrom][mid][0]<= num <= dic_con[chrom][mid][1]:\n",
      "            return dic_con[chrom][mid]\n",
      "        else:\n",
      "            if num<dic_con[chrom][mid][0]:\n",
      "                last=mid-1\n",
      "            else:\n",
      "                first=mid+1\n",
      "    return \"not_found\"\n",
      "                "
     ],
     "language": "python",
     "metadata": {},
     "outputs": [],
     "prompt_number": 15
    },
    {
     "cell_type": "code",
     "collapsed": false,
     "input": [
      "def return_consert_dict(gconsert):\n",
      "    dic_consert={}\n",
      "    for line in open(gconsert,'r').readlines()[1:]:\n",
      "        record=line.strip(\" \\r\\n\").split(\"\\t\")\n",
      "        [chrom,start,end,nummark,ratio,segmean]=record\n",
      "        item=[int(float(start)),int(float(end))]\n",
      "        if chrom not in dic_consert:\n",
      "            dic_consert[chrom]=[item]\n",
      "        else:\n",
      "            dic_consert[chrom].append(item)\n",
      "    return dic_consert"
     ],
     "language": "python",
     "metadata": {},
     "outputs": [],
     "prompt_number": 20
    },
    {
     "cell_type": "code",
     "collapsed": false,
     "input": [
      "a=\"/nfs_exports/genomes/1/PCGP/BucketIntermediate/XChen/CNV/SJLGG/SJLGG026/Result/SJLGG026G_Single_CONSERTING_NoCREST_Mapability_100.txt\""
     ],
     "language": "python",
     "metadata": {},
     "outputs": [],
     "prompt_number": 21
    },
    {
     "cell_type": "code",
     "collapsed": false,
     "input": [
      "dic1=return_consert_dict(a)"
     ],
     "language": "python",
     "metadata": {},
     "outputs": [],
     "prompt_number": 22
    },
    {
     "cell_type": "code",
     "collapsed": false,
     "input": [
      "print dic1.keys()"
     ],
     "language": "python",
     "metadata": {},
     "outputs": [
      {
       "output_type": "stream",
       "stream": "stdout",
       "text": [
        "['24', '20', '21', '22', '23', '1', '3', '2', '5', '4', '7', '6', '9', '8', '11', '10', '13', '12', '15', '14', '17', '16', '19', '18']\n"
       ]
      }
     ],
     "prompt_number": 27
    },
    {
     "cell_type": "code",
     "collapsed": false,
     "input": [],
     "language": "python",
     "metadata": {},
     "outputs": []
    }
   ],
   "metadata": {}
  }
 ]
}