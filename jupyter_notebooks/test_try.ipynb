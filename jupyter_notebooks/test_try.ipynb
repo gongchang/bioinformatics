{
 "metadata": {
  "name": ""
 },
 "nbformat": 3,
 "nbformat_minor": 0,
 "worksheets": [
  {
   "cells": [
    {
     "cell_type": "code",
     "collapsed": false,
     "input": [
      "i=0\n",
      "while i in range(4):\n",
      "    print i\n",
      "    i+=2"
     ],
     "language": "python",
     "metadata": {},
     "outputs": [],
     "prompt_number": "*"
    },
    {
     "cell_type": "code",
     "collapsed": false,
     "input": [
      "list1=[]\n",
      "list2=[1,2]\n",
      "list1.append(list2)\n",
      "list2=[2,3]\n",
      "list1.append(list2)\n",
      "print list1\n",
      "dic1={}\n",
      "list1.append(dic1)\n",
      "dic1={'a':2}\n",
      "list1.append(dic1)\n",
      "print list1"
     ],
     "language": "python",
     "metadata": {},
     "outputs": [],
     "prompt_number": "*"
    },
    {
     "cell_type": "code",
     "collapsed": false,
     "input": [
      "a=1\n",
      "a!=2"
     ],
     "language": "python",
     "metadata": {},
     "outputs": [],
     "prompt_number": "*"
    },
    {
     "cell_type": "code",
     "collapsed": false,
     "input": [
      "def add(a,b=2):\n",
      "    return a+b\n",
      "\n",
      "print add(5)"
     ],
     "language": "python",
     "metadata": {},
     "outputs": [],
     "prompt_number": "*"
    },
    {
     "cell_type": "code",
     "collapsed": false,
     "input": [
      "import traceback\n",
      "def div(a,b):\n",
      "    try:\n",
      "        return a/b\n",
      "    except:\n",
      "        trace=traceback.format_exec()\n",
      "        print trace\n",
      "    finally:\n",
      "        print \"this line is always executed\"\n",
      "div(3,2)\n",
      "    "
     ],
     "language": "python",
     "metadata": {},
     "outputs": [],
     "prompt_number": "*"
    },
    {
     "cell_type": "code",
     "collapsed": false,
     "input": [
      "div(3,0)"
     ],
     "language": "python",
     "metadata": {},
     "outputs": [],
     "prompt_number": "*"
    },
    {
     "cell_type": "code",
     "collapsed": false,
     "input": [
      "a='2'\n",
      "b='3'\n",
      "c='{0}{1}'.format(a,b)\n",
      "print c"
     ],
     "language": "python",
     "metadata": {},
     "outputs": [],
     "prompt_number": "*"
    },
    {
     "cell_type": "code",
     "collapsed": false,
     "input": [
      "def append2(list1,item):\n",
      "    list1.append(item)\n",
      "a=[1,2,3]\n",
      "print a\n",
      "append2(a,4)\n",
      "print a"
     ],
     "language": "python",
     "metadata": {},
     "outputs": [],
     "prompt_number": "*"
    },
    {
     "cell_type": "code",
     "collapsed": false,
     "input": [],
     "language": "python",
     "metadata": {},
     "outputs": []
    }
   ],
   "metadata": {}
  }
 ]
}