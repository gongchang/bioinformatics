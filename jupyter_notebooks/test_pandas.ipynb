{
 "metadata": {
  "name": ""
 },
 "nbformat": 3,
 "nbformat_minor": 0,
 "worksheets": [
  {
   "cells": [
    {
     "cell_type": "code",
     "collapsed": false,
     "input": [
      "import pandas"
     ],
     "language": "python",
     "metadata": {},
     "outputs": [],
     "prompt_number": 1
    },
    {
     "cell_type": "code",
     "collapsed": false,
     "input": [
      "ideo = pandas.read_table(\n",
      "    'ideogram.txt',\n",
      "    skiprows=1,\n",
      "    names=['chrom', 'start', 'end', 'name', 'gieStain']\n",
      ")"
     ],
     "language": "python",
     "metadata": {},
     "outputs": [],
     "prompt_number": 2
    },
    {
     "cell_type": "code",
     "collapsed": false,
     "input": [
      "color_lookup = {\n",
      "    'gneg': (1., 1., 1.),\n",
      "    'gpos25': (.6, .6, .6),\n",
      "    'gpos50': (.4, .4, .4),\n",
      "    'gpos75': (.2, .2, .2),\n",
      "    'gpos100': (0., 0., 0.),\n",
      "    'acen': (1., .4, .4),\n",
      "    'gvar': (.8, .8, .8),\n",
      "    'stalk': (.9, .9, .9),\n",
      "} \n",
      "a=[]\n",
      "for i in ideo['gieStain']:\n",
      "    if i==\"acen\":\n",
      "        a.append(i)\n",
      "print len(a)\n",
      "#.apply(lambda x: color_lookup[x])"
     ],
     "language": "python",
     "metadata": {},
     "outputs": [
      {
       "output_type": "stream",
       "stream": "stdout",
       "text": [
        "48\n"
       ]
      }
     ],
     "prompt_number": 12
    },
    {
     "cell_type": "code",
     "collapsed": false,
     "input": [],
     "language": "python",
     "metadata": {},
     "outputs": []
    }
   ],
   "metadata": {}
  }
 ]
}