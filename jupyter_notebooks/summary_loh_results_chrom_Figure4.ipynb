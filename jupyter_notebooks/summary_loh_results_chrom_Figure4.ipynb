{
 "metadata": {
  "name": ""
 },
 "nbformat": 3,
 "nbformat_minor": 0,
 "worksheets": [
  {
   "cells": [
    {
     "cell_type": "code",
     "collapsed": false,
     "input": [
      "%pylab inline\n",
      "##only erus03 works, erus02 gives this weird error where the Y-axis is given wrong direction after log scale change"
     ],
     "language": "python",
     "metadata": {},
     "outputs": [
      {
       "output_type": "stream",
       "stream": "stdout",
       "text": [
        "Populating the interactive namespace from numpy and matplotlib\n"
       ]
      },
      {
       "output_type": "stream",
       "stream": "stderr",
       "text": [
        "WARNING: pylab import has clobbered these variables: ['scatter']\n",
        "`%pylab --no-import-all` prevents importing * from pylab and numpy\n"
       ]
      }
     ],
     "prompt_number": 5
    },
    {
     "cell_type": "code",
     "collapsed": false,
     "input": [
      "%load /home/zzhang1/test_code/PCGP_hg19_processing/summary_loh_results_chrom_Figure4.py\n",
      "#the hg18 result of SJTALL005 is a symbolic link under the hg19 folder"
     ],
     "language": "python",
     "metadata": {},
     "outputs": [],
     "prompt_number": 3
    },
    {
     "cell_type": "code",
     "collapsed": false,
     "input": [
      "import os\n",
      "import pylab\n",
      "import mpld3\n",
      "mpld3.enable_notebook()\n",
      "\n",
      "list_filenames=os.listdir(\"/home/zzhang1/test_code/PCGP_hg19_processing\")\n",
      "direct=\"/home/zzhang1/test_code/PCGP_hg19_processing/\"\n",
      "list_sample=[]\n",
      "\n",
      "dic1={}\n",
      "for filename in list_filenames:\n",
      "    if filename.startswith(\"summ\") and filename.endswith(\"100K.txt\"):\n",
      "        filename=direct+filename\n",
      "        lines=open(filename,'r').readlines()[1:]\n",
      "        for line in lines:\n",
      "            record=line.strip(\" \\r\\n\").split(\"\\t\")\t\t\n",
      "            sample=record[0].split(\"_\")[2]\n",
      "            if sample not in list_sample:\n",
      "                list_sample.append(sample)\n",
      "            chrom=record[1]\n",
      "            length=float(record[2])/1000\n",
      "            \n",
      "            if sample not in dic1:\n",
      "                dic1[sample]={}\n",
      "                dic1[sample][chrom]=length\n",
      "            else:\n",
      "                if chrom not in dic1[sample]:\n",
      "                    dic1[sample][chrom]=length\n",
      "                else:\n",
      "                    dic1[sample][chrom]+=length\n",
      "\n",
      "\n",
      "x_values=[]\n",
      "y_values=[]\n",
      "labels=[]\n",
      "colors=[]\n",
      "\n",
      "#positive_1M=['SJACT065', 'SJACT069', 'SJACT071', 'SJBALL020013', 'SJBALL020984', 'SJERG002', 'SJEWS010365', 'SJEWS010367', 'SJEWS010375', 'SJHGG033', 'SJHGG040', 'SJHGG059A', 'SJHGG102', 'SJHYPER043', 'SJHYPER084', 'SJHYPER146', 'SJHYPER150', 'SJMB032', 'SJOS001101', 'SJOS001109']\n",
      "\n",
      "\n",
      "for donor,value in dic1.iteritems():\n",
      "    x=len(value.keys())\n",
      "\n",
      "    lengths=[long for chrom,long in value.iteritems()]\n",
      "    y=sum(lengths)\n",
      "    label=donor\n",
      "    if x==1:\n",
      "        color=\"red\" # \n",
      "        present=\"single chromosome containing ROH > 5Mb\"\n",
      "    else:\n",
      "        color=\"green\"\n",
      "        present=\"multiple chromosomes containing ROH > 5Mb\"\n",
      "    \n",
      "    list_v=[]\n",
      "    for chrom,long in value.iteritems():\n",
      "        v=chrom+\":\"+str(int(long))\n",
      "        list_v.append(v)\n",
      "    #print donor,\"\\t\",\",\".join(list_v),\"\\t\",present\n",
      "    x_values.append(x)\n",
      "    y_values.append(y)\n",
      "    labels.append(label)\n",
      "    colors.append(color)\n",
      "#pylab.gca().set_yscale('log')\n",
      "fig, ax =pylab.subplots()\n",
      "#ax.set_yscale('log')\n",
      "\n",
      "scatter=ax.scatter(x_values,y_values,c=colors)\n",
      "\n",
      "#ax.set_yscale('log')\n",
      "#ax.invert_yaxis()\n",
      "pylab.xlabel(\"Number of chromosomes containing ROH > 5Mb\")\n",
      "pylab.ylabel(\"Cumulative length (Mb)\")\n",
      "\n",
      "tooltip=mpld3.plugins.PointLabelTooltip(scatter,labels=labels)\n",
      "mpld3.plugins.connect(fig,tooltip)\n",
      "#mpld3.save_html(fig,\"summary_PCGP_5MBLOH_CHROM.html\")\n",
      "\n",
      "#pylab.savefig(\"summary_PCGP_5MBLOH_CHROM.png\")\n",
      "            \n",
      "#Sample\tChr\tLength(kb)\tStart(kb)\tEnd(kb)\n",
      "#loh_germline_SJACT062_color_selection_100K.txt\tchr5\t6700\t127000\t133700\n"
     ],
     "language": "python",
     "metadata": {},
     "outputs": [
      {
       "html": [
        "\n",
        "\n",
        "<style>\n",
        "\n",
        "</style>\n",
        "\n",
        "<div id=\"fig_el27084489739681145189771\"></div>\n",
        "<script>\n",
        "function mpld3_load_lib(url, callback){\n",
        "  var s = document.createElement('script');\n",
        "  s.src = url;\n",
        "  s.async = true;\n",
        "  s.onreadystatechange = s.onload = callback;\n",
        "  s.onerror = function(){console.warn(\"failed to load library \" + url);};\n",
        "  document.getElementsByTagName(\"head\")[0].appendChild(s);\n",
        "}\n",
        "\n",
        "if(typeof(mpld3) !== \"undefined\" && mpld3._mpld3IsLoaded){\n",
        "   // already loaded: just create the figure\n",
        "   !function(mpld3){\n",
        "       \n",
        "       mpld3.draw_figure(\"fig_el27084489739681145189771\", {\"axes\": [{\"xlim\": [0.0, 12.0], \"yscale\": \"linear\", \"axesbg\": \"#FFFFFF\", \"texts\": [{\"v_baseline\": \"hanging\", \"h_anchor\": \"middle\", \"color\": \"#000000\", \"text\": \"Number of chromosomes containing ROH > 5Mb\", \"coordinates\": \"axes\", \"zorder\": 3, \"alpha\": 1, \"fontsize\": 10.0, \"position\": [0.5, -0.080645161290322578], \"rotation\": -0.0, \"id\": \"el2708454689296\"}, {\"v_baseline\": \"auto\", \"h_anchor\": \"middle\", \"color\": \"#000000\", \"text\": \"Cumulative length (Mb)\", \"coordinates\": \"axes\", \"zorder\": 3, \"alpha\": 1, \"fontsize\": 10.0, \"position\": [-0.10315860215053765, 0.5], \"rotation\": -90.0, \"id\": \"el2708454555728\"}], \"zoomable\": true, \"images\": [], \"xdomain\": [0.0, 12.0], \"ylim\": [-100.0, 600.0], \"paths\": [], \"sharey\": [], \"sharex\": [], \"axesbgalpha\": null, \"axes\": [{\"scale\": \"linear\", \"tickformat\": null, \"grid\": {\"gridOn\": false}, \"fontsize\": 10.0, \"position\": \"bottom\", \"nticks\": 7, \"tickvalues\": null}, {\"scale\": \"linear\", \"tickformat\": null, \"grid\": {\"gridOn\": false}, \"fontsize\": 10.0, \"position\": \"left\", \"nticks\": 8, \"tickvalues\": null}], \"lines\": [], \"markers\": [], \"id\": \"el2708452106768\", \"ydomain\": [-100.0, 600.0], \"collections\": [{\"paths\": [[[[0.0, -0.5], [0.13260155000000001, -0.5], [0.25978993539242673, -0.44731684579412084], [0.35355339059327379, -0.35355339059327379], [0.44731684579412084, -0.25978993539242673], [0.5, -0.13260155000000001], [0.5, 0.0], [0.5, 0.13260155000000001], [0.44731684579412084, 0.25978993539242673], [0.35355339059327379, 0.35355339059327379], [0.25978993539242673, 0.44731684579412084], [0.13260155000000001, 0.5], [0.0, 0.5], [-0.13260155000000001, 0.5], [-0.25978993539242673, 0.44731684579412084], [-0.35355339059327379, 0.35355339059327379], [-0.44731684579412084, 0.25978993539242673], [-0.5, 0.13260155000000001], [-0.5, 0.0], [-0.5, -0.13260155000000001], [-0.44731684579412084, -0.25978993539242673], [-0.35355339059327379, -0.35355339059327379], [-0.25978993539242673, -0.44731684579412084], [-0.13260155000000001, -0.5], [0.0, -0.5]], [\"M\", \"C\", \"C\", \"C\", \"C\", \"C\", \"C\", \"C\", \"C\", \"Z\"]]], \"edgecolors\": [\"#000000\"], \"edgewidths\": [1.0], \"offsets\": \"data01\", \"yindex\": 1, \"id\": \"el2708453308880\", \"pathtransforms\": [[4.9690399499995328, 0.0, 0.0, 4.9690399499995328, 0.0, 0.0]], \"pathcoordinates\": \"display\", \"offsetcoordinates\": \"data\", \"zorder\": 1, \"xindex\": 0, \"alphas\": [null], \"facecolors\": [\"#008000\", \"#FF0000\", \"#008000\", \"#FF0000\", \"#FF0000\", \"#FF0000\", \"#FF0000\", \"#FF0000\", \"#FF0000\", \"#008000\", \"#FF0000\", \"#FF0000\", \"#008000\", \"#FF0000\", \"#008000\", \"#008000\", \"#008000\", \"#008000\", \"#008000\", \"#FF0000\", \"#FF0000\", \"#008000\", \"#FF0000\", \"#FF0000\", \"#FF0000\", \"#008000\", \"#FF0000\", \"#FF0000\", \"#008000\", \"#FF0000\", \"#FF0000\", \"#008000\", \"#FF0000\", \"#FF0000\", \"#FF0000\", \"#FF0000\", \"#008000\", \"#008000\", \"#FF0000\", \"#FF0000\", \"#FF0000\", \"#FF0000\", \"#008000\"]}], \"xscale\": \"linear\", \"bbox\": [0.125, 0.125, 0.77500000000000002, 0.77500000000000002]}], \"height\": 320.0, \"width\": 480.0, \"plugins\": [{\"type\": \"reset\"}, {\"enabled\": false, \"button\": true, \"type\": \"zoom\"}, {\"enabled\": false, \"button\": true, \"type\": \"boxzoom\"}, {\"voffset\": 10, \"labels\": [\"SJACT069\", \"SJHYPER113\", \"SJHYPER150\", \"SJACT062\", \"SJACT065\", \"SJBALL231\", \"SJRHB010\", \"SJBALL020013\", \"SJRB024\", \"SJEWS010365\", \"SJEPD034\", \"SJEWS010367\", \"SJHYPER084\", \"SJBALL021170\", \"SJOS001101\", \"SJERG002\", \"SJTALL005\", \"SJNBL045\", \"SJNBL024\", \"SJHGG040\", \"SJHYPER043\", \"SJHGG033\", \"SJHYPER023\", \"SJHYPER022\", \"SJHGG102\", \"SJBALL020984\", \"SJHYPER146\", \"SJHGG024\", \"SJOS001109\", \"SJACT070\", \"SJACT071\", \"SJEWS010375\", \"SJEWS010372\", \"SJOS001103\", \"SJEPD004\", \"SJLGG008\", \"SJLGG004\", \"SJCPC001012\", \"SJMB032\", \"SJHGG059A\", \"SJNBL013\", \"SJPHALL020047\", \"SJNBL030\"], \"hoffset\": 0, \"location\": \"mouse\", \"type\": \"tooltip\", \"id\": \"el2708453308880\"}], \"data\": {\"data01\": [[4.0, 122.8], [1.0, 19.600000000000001], [6.0, 245.0], [1.0, 13.4], [1.0, 76.799999999999997], [1.0, 16.600000000000001], [1.0, 20.0], [1.0, 29.399999999999999], [1.0, 11.800000000000001], [5.0, 117.59999999999999], [1.0, 11.800000000000001], [1.0, 21.800000000000001], [2.0, 35.600000000000001], [1.0, 16.600000000000001], [4.0, 114.59999999999999], [2.0, 50.0], [2.0, 33.899999999999999], [4.0, 49.200000000000003], [2.0, 27.399999999999999], [1.0, 59.799999999999997], [1.0, 40.799999999999997], [11.0, 527.20000000000005], [1.0, 11.800000000000001], [1.0, 11.199999999999999], [1.0, 31.0], [2.0, 42.0], [1.0, 54.200000000000003], [1.0, 10.4], [10.0, 384.80000000000001], [1.0, 10.199999999999999], [1.0, 24.199999999999999], [10.0, 466.40000000000003], [1.0, 15.0], [1.0, 13.0], [1.0, 10.6], [1.0, 15.0], [3.0, 55.0], [2.0, 24.799999999999997], [1.0, 137.19999999999999], [1.0, 25.800000000000001], [1.0, 19.800000000000001], [1.0, 12.0], [2.0, 44.399999999999999]]}, \"id\": \"el2708448973968\"});\n",
        "   }(mpld3);\n",
        "}else if(typeof define === \"function\" && define.amd){\n",
        "   // require.js is available: use it to load d3/mpld3\n",
        "   require.config({paths: {d3: \"https://mpld3.github.io/js/d3.v3.min\"}});\n",
        "   require([\"d3\"], function(d3){\n",
        "      window.d3 = d3;\n",
        "      mpld3_load_lib(\"https://mpld3.github.io/js/mpld3.v0.3git.js\", function(){\n",
        "         \n",
        "         mpld3.draw_figure(\"fig_el27084489739681145189771\", {\"axes\": [{\"xlim\": [0.0, 12.0], \"yscale\": \"linear\", \"axesbg\": \"#FFFFFF\", \"texts\": [{\"v_baseline\": \"hanging\", \"h_anchor\": \"middle\", \"color\": \"#000000\", \"text\": \"Number of chromosomes containing ROH > 5Mb\", \"coordinates\": \"axes\", \"zorder\": 3, \"alpha\": 1, \"fontsize\": 10.0, \"position\": [0.5, -0.080645161290322578], \"rotation\": -0.0, \"id\": \"el2708454689296\"}, {\"v_baseline\": \"auto\", \"h_anchor\": \"middle\", \"color\": \"#000000\", \"text\": \"Cumulative length (Mb)\", \"coordinates\": \"axes\", \"zorder\": 3, \"alpha\": 1, \"fontsize\": 10.0, \"position\": [-0.10315860215053765, 0.5], \"rotation\": -90.0, \"id\": \"el2708454555728\"}], \"zoomable\": true, \"images\": [], \"xdomain\": [0.0, 12.0], \"ylim\": [-100.0, 600.0], \"paths\": [], \"sharey\": [], \"sharex\": [], \"axesbgalpha\": null, \"axes\": [{\"scale\": \"linear\", \"tickformat\": null, \"grid\": {\"gridOn\": false}, \"fontsize\": 10.0, \"position\": \"bottom\", \"nticks\": 7, \"tickvalues\": null}, {\"scale\": \"linear\", \"tickformat\": null, \"grid\": {\"gridOn\": false}, \"fontsize\": 10.0, \"position\": \"left\", \"nticks\": 8, \"tickvalues\": null}], \"lines\": [], \"markers\": [], \"id\": \"el2708452106768\", \"ydomain\": [-100.0, 600.0], \"collections\": [{\"paths\": [[[[0.0, -0.5], [0.13260155000000001, -0.5], [0.25978993539242673, -0.44731684579412084], [0.35355339059327379, -0.35355339059327379], [0.44731684579412084, -0.25978993539242673], [0.5, -0.13260155000000001], [0.5, 0.0], [0.5, 0.13260155000000001], [0.44731684579412084, 0.25978993539242673], [0.35355339059327379, 0.35355339059327379], [0.25978993539242673, 0.44731684579412084], [0.13260155000000001, 0.5], [0.0, 0.5], [-0.13260155000000001, 0.5], [-0.25978993539242673, 0.44731684579412084], [-0.35355339059327379, 0.35355339059327379], [-0.44731684579412084, 0.25978993539242673], [-0.5, 0.13260155000000001], [-0.5, 0.0], [-0.5, -0.13260155000000001], [-0.44731684579412084, -0.25978993539242673], [-0.35355339059327379, -0.35355339059327379], [-0.25978993539242673, -0.44731684579412084], [-0.13260155000000001, -0.5], [0.0, -0.5]], [\"M\", \"C\", \"C\", \"C\", \"C\", \"C\", \"C\", \"C\", \"C\", \"Z\"]]], \"edgecolors\": [\"#000000\"], \"edgewidths\": [1.0], \"offsets\": \"data01\", \"yindex\": 1, \"id\": \"el2708453308880\", \"pathtransforms\": [[4.9690399499995328, 0.0, 0.0, 4.9690399499995328, 0.0, 0.0]], \"pathcoordinates\": \"display\", \"offsetcoordinates\": \"data\", \"zorder\": 1, \"xindex\": 0, \"alphas\": [null], \"facecolors\": [\"#008000\", \"#FF0000\", \"#008000\", \"#FF0000\", \"#FF0000\", \"#FF0000\", \"#FF0000\", \"#FF0000\", \"#FF0000\", \"#008000\", \"#FF0000\", \"#FF0000\", \"#008000\", \"#FF0000\", \"#008000\", \"#008000\", \"#008000\", \"#008000\", \"#008000\", \"#FF0000\", \"#FF0000\", \"#008000\", \"#FF0000\", \"#FF0000\", \"#FF0000\", \"#008000\", \"#FF0000\", \"#FF0000\", \"#008000\", \"#FF0000\", \"#FF0000\", \"#008000\", \"#FF0000\", \"#FF0000\", \"#FF0000\", \"#FF0000\", \"#008000\", \"#008000\", \"#FF0000\", \"#FF0000\", \"#FF0000\", \"#FF0000\", \"#008000\"]}], \"xscale\": \"linear\", \"bbox\": [0.125, 0.125, 0.77500000000000002, 0.77500000000000002]}], \"height\": 320.0, \"width\": 480.0, \"plugins\": [{\"type\": \"reset\"}, {\"enabled\": false, \"button\": true, \"type\": \"zoom\"}, {\"enabled\": false, \"button\": true, \"type\": \"boxzoom\"}, {\"voffset\": 10, \"labels\": [\"SJACT069\", \"SJHYPER113\", \"SJHYPER150\", \"SJACT062\", \"SJACT065\", \"SJBALL231\", \"SJRHB010\", \"SJBALL020013\", \"SJRB024\", \"SJEWS010365\", \"SJEPD034\", \"SJEWS010367\", \"SJHYPER084\", \"SJBALL021170\", \"SJOS001101\", \"SJERG002\", \"SJTALL005\", \"SJNBL045\", \"SJNBL024\", \"SJHGG040\", \"SJHYPER043\", \"SJHGG033\", \"SJHYPER023\", \"SJHYPER022\", \"SJHGG102\", \"SJBALL020984\", \"SJHYPER146\", \"SJHGG024\", \"SJOS001109\", \"SJACT070\", \"SJACT071\", \"SJEWS010375\", \"SJEWS010372\", \"SJOS001103\", \"SJEPD004\", \"SJLGG008\", \"SJLGG004\", \"SJCPC001012\", \"SJMB032\", \"SJHGG059A\", \"SJNBL013\", \"SJPHALL020047\", \"SJNBL030\"], \"hoffset\": 0, \"location\": \"mouse\", \"type\": \"tooltip\", \"id\": \"el2708453308880\"}], \"data\": {\"data01\": [[4.0, 122.8], [1.0, 19.600000000000001], [6.0, 245.0], [1.0, 13.4], [1.0, 76.799999999999997], [1.0, 16.600000000000001], [1.0, 20.0], [1.0, 29.399999999999999], [1.0, 11.800000000000001], [5.0, 117.59999999999999], [1.0, 11.800000000000001], [1.0, 21.800000000000001], [2.0, 35.600000000000001], [1.0, 16.600000000000001], [4.0, 114.59999999999999], [2.0, 50.0], [2.0, 33.899999999999999], [4.0, 49.200000000000003], [2.0, 27.399999999999999], [1.0, 59.799999999999997], [1.0, 40.799999999999997], [11.0, 527.20000000000005], [1.0, 11.800000000000001], [1.0, 11.199999999999999], [1.0, 31.0], [2.0, 42.0], [1.0, 54.200000000000003], [1.0, 10.4], [10.0, 384.80000000000001], [1.0, 10.199999999999999], [1.0, 24.199999999999999], [10.0, 466.40000000000003], [1.0, 15.0], [1.0, 13.0], [1.0, 10.6], [1.0, 15.0], [3.0, 55.0], [2.0, 24.799999999999997], [1.0, 137.19999999999999], [1.0, 25.800000000000001], [1.0, 19.800000000000001], [1.0, 12.0], [2.0, 44.399999999999999]]}, \"id\": \"el2708448973968\"});\n",
        "      });\n",
        "    });\n",
        "}else{\n",
        "    // require.js not available: dynamically load d3 & mpld3\n",
        "    mpld3_load_lib(\"https://mpld3.github.io/js/d3.v3.min.js\", function(){\n",
        "         mpld3_load_lib(\"https://mpld3.github.io/js/mpld3.v0.3git.js\", function(){\n",
        "                 \n",
        "                 mpld3.draw_figure(\"fig_el27084489739681145189771\", {\"axes\": [{\"xlim\": [0.0, 12.0], \"yscale\": \"linear\", \"axesbg\": \"#FFFFFF\", \"texts\": [{\"v_baseline\": \"hanging\", \"h_anchor\": \"middle\", \"color\": \"#000000\", \"text\": \"Number of chromosomes containing ROH > 5Mb\", \"coordinates\": \"axes\", \"zorder\": 3, \"alpha\": 1, \"fontsize\": 10.0, \"position\": [0.5, -0.080645161290322578], \"rotation\": -0.0, \"id\": \"el2708454689296\"}, {\"v_baseline\": \"auto\", \"h_anchor\": \"middle\", \"color\": \"#000000\", \"text\": \"Cumulative length (Mb)\", \"coordinates\": \"axes\", \"zorder\": 3, \"alpha\": 1, \"fontsize\": 10.0, \"position\": [-0.10315860215053765, 0.5], \"rotation\": -90.0, \"id\": \"el2708454555728\"}], \"zoomable\": true, \"images\": [], \"xdomain\": [0.0, 12.0], \"ylim\": [-100.0, 600.0], \"paths\": [], \"sharey\": [], \"sharex\": [], \"axesbgalpha\": null, \"axes\": [{\"scale\": \"linear\", \"tickformat\": null, \"grid\": {\"gridOn\": false}, \"fontsize\": 10.0, \"position\": \"bottom\", \"nticks\": 7, \"tickvalues\": null}, {\"scale\": \"linear\", \"tickformat\": null, \"grid\": {\"gridOn\": false}, \"fontsize\": 10.0, \"position\": \"left\", \"nticks\": 8, \"tickvalues\": null}], \"lines\": [], \"markers\": [], \"id\": \"el2708452106768\", \"ydomain\": [-100.0, 600.0], \"collections\": [{\"paths\": [[[[0.0, -0.5], [0.13260155000000001, -0.5], [0.25978993539242673, -0.44731684579412084], [0.35355339059327379, -0.35355339059327379], [0.44731684579412084, -0.25978993539242673], [0.5, -0.13260155000000001], [0.5, 0.0], [0.5, 0.13260155000000001], [0.44731684579412084, 0.25978993539242673], [0.35355339059327379, 0.35355339059327379], [0.25978993539242673, 0.44731684579412084], [0.13260155000000001, 0.5], [0.0, 0.5], [-0.13260155000000001, 0.5], [-0.25978993539242673, 0.44731684579412084], [-0.35355339059327379, 0.35355339059327379], [-0.44731684579412084, 0.25978993539242673], [-0.5, 0.13260155000000001], [-0.5, 0.0], [-0.5, -0.13260155000000001], [-0.44731684579412084, -0.25978993539242673], [-0.35355339059327379, -0.35355339059327379], [-0.25978993539242673, -0.44731684579412084], [-0.13260155000000001, -0.5], [0.0, -0.5]], [\"M\", \"C\", \"C\", \"C\", \"C\", \"C\", \"C\", \"C\", \"C\", \"Z\"]]], \"edgecolors\": [\"#000000\"], \"edgewidths\": [1.0], \"offsets\": \"data01\", \"yindex\": 1, \"id\": \"el2708453308880\", \"pathtransforms\": [[4.9690399499995328, 0.0, 0.0, 4.9690399499995328, 0.0, 0.0]], \"pathcoordinates\": \"display\", \"offsetcoordinates\": \"data\", \"zorder\": 1, \"xindex\": 0, \"alphas\": [null], \"facecolors\": [\"#008000\", \"#FF0000\", \"#008000\", \"#FF0000\", \"#FF0000\", \"#FF0000\", \"#FF0000\", \"#FF0000\", \"#FF0000\", \"#008000\", \"#FF0000\", \"#FF0000\", \"#008000\", \"#FF0000\", \"#008000\", \"#008000\", \"#008000\", \"#008000\", \"#008000\", \"#FF0000\", \"#FF0000\", \"#008000\", \"#FF0000\", \"#FF0000\", \"#FF0000\", \"#008000\", \"#FF0000\", \"#FF0000\", \"#008000\", \"#FF0000\", \"#FF0000\", \"#008000\", \"#FF0000\", \"#FF0000\", \"#FF0000\", \"#FF0000\", \"#008000\", \"#008000\", \"#FF0000\", \"#FF0000\", \"#FF0000\", \"#FF0000\", \"#008000\"]}], \"xscale\": \"linear\", \"bbox\": [0.125, 0.125, 0.77500000000000002, 0.77500000000000002]}], \"height\": 320.0, \"width\": 480.0, \"plugins\": [{\"type\": \"reset\"}, {\"enabled\": false, \"button\": true, \"type\": \"zoom\"}, {\"enabled\": false, \"button\": true, \"type\": \"boxzoom\"}, {\"voffset\": 10, \"labels\": [\"SJACT069\", \"SJHYPER113\", \"SJHYPER150\", \"SJACT062\", \"SJACT065\", \"SJBALL231\", \"SJRHB010\", \"SJBALL020013\", \"SJRB024\", \"SJEWS010365\", \"SJEPD034\", \"SJEWS010367\", \"SJHYPER084\", \"SJBALL021170\", \"SJOS001101\", \"SJERG002\", \"SJTALL005\", \"SJNBL045\", \"SJNBL024\", \"SJHGG040\", \"SJHYPER043\", \"SJHGG033\", \"SJHYPER023\", \"SJHYPER022\", \"SJHGG102\", \"SJBALL020984\", \"SJHYPER146\", \"SJHGG024\", \"SJOS001109\", \"SJACT070\", \"SJACT071\", \"SJEWS010375\", \"SJEWS010372\", \"SJOS001103\", \"SJEPD004\", \"SJLGG008\", \"SJLGG004\", \"SJCPC001012\", \"SJMB032\", \"SJHGG059A\", \"SJNBL013\", \"SJPHALL020047\", \"SJNBL030\"], \"hoffset\": 0, \"location\": \"mouse\", \"type\": \"tooltip\", \"id\": \"el2708453308880\"}], \"data\": {\"data01\": [[4.0, 122.8], [1.0, 19.600000000000001], [6.0, 245.0], [1.0, 13.4], [1.0, 76.799999999999997], [1.0, 16.600000000000001], [1.0, 20.0], [1.0, 29.399999999999999], [1.0, 11.800000000000001], [5.0, 117.59999999999999], [1.0, 11.800000000000001], [1.0, 21.800000000000001], [2.0, 35.600000000000001], [1.0, 16.600000000000001], [4.0, 114.59999999999999], [2.0, 50.0], [2.0, 33.899999999999999], [4.0, 49.200000000000003], [2.0, 27.399999999999999], [1.0, 59.799999999999997], [1.0, 40.799999999999997], [11.0, 527.20000000000005], [1.0, 11.800000000000001], [1.0, 11.199999999999999], [1.0, 31.0], [2.0, 42.0], [1.0, 54.200000000000003], [1.0, 10.4], [10.0, 384.80000000000001], [1.0, 10.199999999999999], [1.0, 24.199999999999999], [10.0, 466.40000000000003], [1.0, 15.0], [1.0, 13.0], [1.0, 10.6], [1.0, 15.0], [3.0, 55.0], [2.0, 24.799999999999997], [1.0, 137.19999999999999], [1.0, 25.800000000000001], [1.0, 19.800000000000001], [1.0, 12.0], [2.0, 44.399999999999999]]}, \"id\": \"el2708448973968\"});\n",
        "            })\n",
        "         });\n",
        "}\n",
        "</script>"
       ],
       "metadata": {},
       "output_type": "display_data",
       "png": "[encoded data removed]",
       "text": [
        "<matplotlib.figure.Figure at 0x2eb4890>"
       ]
      }
     ],
     "prompt_number": 13
    },
    {
     "cell_type": "code",
     "collapsed": false,
     "input": [
      "#fig.savefig(\"Summary_loh_results_Figure4.png\",dpi=500,format='png')\n",
      "#fig.savefig(\"Summary_loh_results_Figure4.pdf\",dpi=500,format='pdf')"
     ],
     "language": "python",
     "metadata": {},
     "outputs": [],
     "prompt_number": 17
    },
    {
     "cell_type": "code",
     "collapsed": false,
     "input": [
      "a=[1,2,3]\n",
      "b=[2,3,4]\n",
      "fig,ax=pylab.subplots()\n",
      "scatter=ax.scatter(a,b)\n",
      "ax.set_yscale(\"log\")\n",
      "#pylab.semilogy(a,b)\n"
     ],
     "language": "python",
     "metadata": {},
     "outputs": [
      {
       "html": [
        "\n",
        "\n",
        "<style>\n",
        "\n",
        "</style>\n",
        "\n",
        "<div id=\"fig_el27084571988008117035526\"></div>\n",
        "<script>\n",
        "function mpld3_load_lib(url, callback){\n",
        "  var s = document.createElement('script');\n",
        "  s.src = url;\n",
        "  s.async = true;\n",
        "  s.onreadystatechange = s.onload = callback;\n",
        "  s.onerror = function(){console.warn(\"failed to load library \" + url);};\n",
        "  document.getElementsByTagName(\"head\")[0].appendChild(s);\n",
        "}\n",
        "\n",
        "if(typeof(mpld3) !== \"undefined\" && mpld3._mpld3IsLoaded){\n",
        "   // already loaded: just create the figure\n",
        "   !function(mpld3){\n",
        "       \n",
        "       mpld3.draw_figure(\"fig_el27084571988008117035526\", {\"axes\": [{\"xlim\": [0.5, 3.5], \"yscale\": \"log\", \"axesbg\": \"#FFFFFF\", \"texts\": [], \"zoomable\": true, \"images\": [], \"xdomain\": [0.5, 3.5], \"ylim\": [1.0, 10.0], \"paths\": [], \"sharey\": [], \"sharex\": [], \"axesbgalpha\": null, \"axes\": [{\"scale\": \"linear\", \"tickformat\": null, \"grid\": {\"gridOn\": false}, \"fontsize\": 10.0, \"position\": \"bottom\", \"nticks\": 7, \"tickvalues\": null}, {\"scale\": \"log\", \"tickformat\": null, \"grid\": {\"gridOn\": false}, \"fontsize\": 10.0, \"position\": \"left\", \"nticks\": 4, \"tickvalues\": null}], \"lines\": [], \"markers\": [], \"id\": \"el2708448966672\", \"ydomain\": [1.0, 10.0], \"collections\": [{\"paths\": [[[[0.0, -0.5], [0.13260155000000001, -0.5], [0.25978993539242673, -0.44731684579412084], [0.35355339059327379, -0.35355339059327379], [0.44731684579412084, -0.25978993539242673], [0.5, -0.13260155000000001], [0.5, 0.0], [0.5, 0.13260155000000001], [0.44731684579412084, 0.25978993539242673], [0.35355339059327379, 0.35355339059327379], [0.25978993539242673, 0.44731684579412084], [0.13260155000000001, 0.5], [0.0, 0.5], [-0.13260155000000001, 0.5], [-0.25978993539242673, 0.44731684579412084], [-0.35355339059327379, 0.35355339059327379], [-0.44731684579412084, 0.25978993539242673], [-0.5, 0.13260155000000001], [-0.5, 0.0], [-0.5, -0.13260155000000001], [-0.44731684579412084, -0.25978993539242673], [-0.35355339059327379, -0.35355339059327379], [-0.25978993539242673, -0.44731684579412084], [-0.13260155000000001, -0.5], [0.0, -0.5]], [\"M\", \"C\", \"C\", \"C\", \"C\", \"C\", \"C\", \"C\", \"C\", \"Z\"]]], \"edgecolors\": [\"#000000\"], \"edgewidths\": [1.0], \"offsets\": \"data01\", \"yindex\": 1, \"id\": \"el2708448999120\", \"pathtransforms\": [[4.9690399499995328, 0.0, 0.0, 4.9690399499995328, 0.0, 0.0]], \"pathcoordinates\": \"display\", \"offsetcoordinates\": \"display\", \"zorder\": 1, \"xindex\": 0, \"alphas\": [null], \"facecolors\": [\"#0000FF\"]}], \"xscale\": \"linear\", \"bbox\": [0.125, 0.125, 0.77500000000000002, 0.77500000000000002]}], \"height\": 320.0, \"width\": 480.0, \"plugins\": [{\"type\": \"reset\"}, {\"enabled\": false, \"button\": true, \"type\": \"zoom\"}, {\"enabled\": false, \"button\": true, \"type\": \"boxzoom\"}], \"data\": {\"data01\": [[122.0, 114.65543892466735], [246.0, 158.32607117047627], [370.0, 189.3108778493347]]}, \"id\": \"el2708457198800\"});\n",
        "   }(mpld3);\n",
        "}else if(typeof define === \"function\" && define.amd){\n",
        "   // require.js is available: use it to load d3/mpld3\n",
        "   require.config({paths: {d3: \"https://mpld3.github.io/js/d3.v3.min\"}});\n",
        "   require([\"d3\"], function(d3){\n",
        "      window.d3 = d3;\n",
        "      mpld3_load_lib(\"https://mpld3.github.io/js/mpld3.v0.3git.js\", function(){\n",
        "         \n",
        "         mpld3.draw_figure(\"fig_el27084571988008117035526\", {\"axes\": [{\"xlim\": [0.5, 3.5], \"yscale\": \"log\", \"axesbg\": \"#FFFFFF\", \"texts\": [], \"zoomable\": true, \"images\": [], \"xdomain\": [0.5, 3.5], \"ylim\": [1.0, 10.0], \"paths\": [], \"sharey\": [], \"sharex\": [], \"axesbgalpha\": null, \"axes\": [{\"scale\": \"linear\", \"tickformat\": null, \"grid\": {\"gridOn\": false}, \"fontsize\": 10.0, \"position\": \"bottom\", \"nticks\": 7, \"tickvalues\": null}, {\"scale\": \"log\", \"tickformat\": null, \"grid\": {\"gridOn\": false}, \"fontsize\": 10.0, \"position\": \"left\", \"nticks\": 4, \"tickvalues\": null}], \"lines\": [], \"markers\": [], \"id\": \"el2708448966672\", \"ydomain\": [1.0, 10.0], \"collections\": [{\"paths\": [[[[0.0, -0.5], [0.13260155000000001, -0.5], [0.25978993539242673, -0.44731684579412084], [0.35355339059327379, -0.35355339059327379], [0.44731684579412084, -0.25978993539242673], [0.5, -0.13260155000000001], [0.5, 0.0], [0.5, 0.13260155000000001], [0.44731684579412084, 0.25978993539242673], [0.35355339059327379, 0.35355339059327379], [0.25978993539242673, 0.44731684579412084], [0.13260155000000001, 0.5], [0.0, 0.5], [-0.13260155000000001, 0.5], [-0.25978993539242673, 0.44731684579412084], [-0.35355339059327379, 0.35355339059327379], [-0.44731684579412084, 0.25978993539242673], [-0.5, 0.13260155000000001], [-0.5, 0.0], [-0.5, -0.13260155000000001], [-0.44731684579412084, -0.25978993539242673], [-0.35355339059327379, -0.35355339059327379], [-0.25978993539242673, -0.44731684579412084], [-0.13260155000000001, -0.5], [0.0, -0.5]], [\"M\", \"C\", \"C\", \"C\", \"C\", \"C\", \"C\", \"C\", \"C\", \"Z\"]]], \"edgecolors\": [\"#000000\"], \"edgewidths\": [1.0], \"offsets\": \"data01\", \"yindex\": 1, \"id\": \"el2708448999120\", \"pathtransforms\": [[4.9690399499995328, 0.0, 0.0, 4.9690399499995328, 0.0, 0.0]], \"pathcoordinates\": \"display\", \"offsetcoordinates\": \"display\", \"zorder\": 1, \"xindex\": 0, \"alphas\": [null], \"facecolors\": [\"#0000FF\"]}], \"xscale\": \"linear\", \"bbox\": [0.125, 0.125, 0.77500000000000002, 0.77500000000000002]}], \"height\": 320.0, \"width\": 480.0, \"plugins\": [{\"type\": \"reset\"}, {\"enabled\": false, \"button\": true, \"type\": \"zoom\"}, {\"enabled\": false, \"button\": true, \"type\": \"boxzoom\"}], \"data\": {\"data01\": [[122.0, 114.65543892466735], [246.0, 158.32607117047627], [370.0, 189.3108778493347]]}, \"id\": \"el2708457198800\"});\n",
        "      });\n",
        "    });\n",
        "}else{\n",
        "    // require.js not available: dynamically load d3 & mpld3\n",
        "    mpld3_load_lib(\"https://mpld3.github.io/js/d3.v3.min.js\", function(){\n",
        "         mpld3_load_lib(\"https://mpld3.github.io/js/mpld3.v0.3git.js\", function(){\n",
        "                 \n",
        "                 mpld3.draw_figure(\"fig_el27084571988008117035526\", {\"axes\": [{\"xlim\": [0.5, 3.5], \"yscale\": \"log\", \"axesbg\": \"#FFFFFF\", \"texts\": [], \"zoomable\": true, \"images\": [], \"xdomain\": [0.5, 3.5], \"ylim\": [1.0, 10.0], \"paths\": [], \"sharey\": [], \"sharex\": [], \"axesbgalpha\": null, \"axes\": [{\"scale\": \"linear\", \"tickformat\": null, \"grid\": {\"gridOn\": false}, \"fontsize\": 10.0, \"position\": \"bottom\", \"nticks\": 7, \"tickvalues\": null}, {\"scale\": \"log\", \"tickformat\": null, \"grid\": {\"gridOn\": false}, \"fontsize\": 10.0, \"position\": \"left\", \"nticks\": 4, \"tickvalues\": null}], \"lines\": [], \"markers\": [], \"id\": \"el2708448966672\", \"ydomain\": [1.0, 10.0], \"collections\": [{\"paths\": [[[[0.0, -0.5], [0.13260155000000001, -0.5], [0.25978993539242673, -0.44731684579412084], [0.35355339059327379, -0.35355339059327379], [0.44731684579412084, -0.25978993539242673], [0.5, -0.13260155000000001], [0.5, 0.0], [0.5, 0.13260155000000001], [0.44731684579412084, 0.25978993539242673], [0.35355339059327379, 0.35355339059327379], [0.25978993539242673, 0.44731684579412084], [0.13260155000000001, 0.5], [0.0, 0.5], [-0.13260155000000001, 0.5], [-0.25978993539242673, 0.44731684579412084], [-0.35355339059327379, 0.35355339059327379], [-0.44731684579412084, 0.25978993539242673], [-0.5, 0.13260155000000001], [-0.5, 0.0], [-0.5, -0.13260155000000001], [-0.44731684579412084, -0.25978993539242673], [-0.35355339059327379, -0.35355339059327379], [-0.25978993539242673, -0.44731684579412084], [-0.13260155000000001, -0.5], [0.0, -0.5]], [\"M\", \"C\", \"C\", \"C\", \"C\", \"C\", \"C\", \"C\", \"C\", \"Z\"]]], \"edgecolors\": [\"#000000\"], \"edgewidths\": [1.0], \"offsets\": \"data01\", \"yindex\": 1, \"id\": \"el2708448999120\", \"pathtransforms\": [[4.9690399499995328, 0.0, 0.0, 4.9690399499995328, 0.0, 0.0]], \"pathcoordinates\": \"display\", \"offsetcoordinates\": \"display\", \"zorder\": 1, \"xindex\": 0, \"alphas\": [null], \"facecolors\": [\"#0000FF\"]}], \"xscale\": \"linear\", \"bbox\": [0.125, 0.125, 0.77500000000000002, 0.77500000000000002]}], \"height\": 320.0, \"width\": 480.0, \"plugins\": [{\"type\": \"reset\"}, {\"enabled\": false, \"button\": true, \"type\": \"zoom\"}, {\"enabled\": false, \"button\": true, \"type\": \"boxzoom\"}], \"data\": {\"data01\": [[122.0, 114.65543892466735], [246.0, 158.32607117047627], [370.0, 189.3108778493347]]}, \"id\": \"el2708457198800\"});\n",
        "            })\n",
        "         });\n",
        "}\n",
        "</script>"
       ],
       "metadata": {},
       "output_type": "display_data",
       "png": "[encoded data removed]",
       "text": [
        "<matplotlib.figure.Figure at 0x368c8d0>"
       ]
      }
     ],
     "prompt_number": 9
    },
    {
     "cell_type": "code",
     "collapsed": false,
     "input": [
      "%R"
     ],
     "language": "python",
     "metadata": {},
     "outputs": [
      {
       "output_type": "stream",
       "stream": "stderr",
       "text": [
        "ERROR: Line magic function `%R` not found.\n"
       ]
      }
     ],
     "prompt_number": 35
    },
    {
     "cell_type": "code",
     "collapsed": false,
     "input": [],
     "language": "python",
     "metadata": {},
     "outputs": []
    }
   ],
   "metadata": {}
  }
 ]
}