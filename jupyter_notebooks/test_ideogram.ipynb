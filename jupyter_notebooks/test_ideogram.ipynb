{
 "metadata": {
  "name": ""
 },
 "nbformat": 3,
 "nbformat_minor": 0,
 "worksheets": [
  {
   "cells": [
    {
     "cell_type": "code",
     "collapsed": false,
     "input": [
      "%pylab inline\n",
      "#import mpld3\n",
      "#mpld3.enable_notebook()"
     ],
     "language": "python",
     "metadata": {},
     "outputs": [
      {
       "output_type": "stream",
       "stream": "stdout",
       "text": [
        "Populating the interactive namespace from numpy and matplotlib\n"
       ]
      }
     ],
     "prompt_number": 1
    },
    {
     "cell_type": "code",
     "collapsed": false,
     "input": [
      "#!/usr/bin/env python\n",
      "\n",
      "\"\"\"\n",
      "Demonstrates plotting chromosome ideograms and genes (or any features, really)\n",
      "using matplotlib.\n",
      "1) Assumes a file from UCSC's Table Browser from the \"cytoBandIdeo\" table,\n",
      "saved as \"ideogram.txt\". Lines look like this::\n",
      "    #chrom  chromStart  chromEnd  name    gieStain\n",
      "    chr1    0           2300000   p36.33  gneg\n",
      "    chr1    2300000     5300000   p36.32  gpos25\n",
      "    chr1    5300000     7100000   p36.31  gneg\n",
      "2) Assumes another file, \"ucsc_genes.txt\", which is a BED format file\n",
      "   downloaded from UCSC's Table Browser. This script will work with any\n",
      "   BED-format file.\n",
      "\"\"\"\n",
      "\n",
      "from matplotlib import pyplot as plt\n",
      "from matplotlib.collections import BrokenBarHCollection\n",
      "import pandas\n",
      "input_file=\"test1.txt\"\n",
      "\n",
      "# Here's the function that we'll call for each dataframe (once for chromosome\n",
      "# ideograms, once for genes).  The rest of this script will be prepping data\n",
      "# for input to this function\n",
      "#\n",
      "def chromosome_collections(df, y_positions, height,  **kwargs):\n",
      "    \"\"\"\n",
      "    Yields BrokenBarHCollection of features that can be added to an Axes\n",
      "    object.\n",
      "    Parameters\n",
      "    ----------\n",
      "    df : pandas.DataFrame\n",
      "        Must at least have columns ['chrom', 'start', 'end', 'color']. If no\n",
      "        column 'width', it will be calculated from start/end.\n",
      "    y_positions : dict\n",
      "        Keys are chromosomes, values are y-value at which to anchor the\n",
      "        BrokenBarHCollection\n",
      "    height : float\n",
      "        Height of each BrokenBarHCollection\n",
      "    Additional kwargs are passed to BrokenBarHCollection\n",
      "    \"\"\"\n",
      "    del_width = False\n",
      "    if 'width' not in df.columns:\n",
      "        del_width = True\n",
      "        df['width'] = df['end'] - df['start']\n",
      "    for chrom, group in df.groupby('chrom'):\n",
      "        print chrom\n",
      "        yrange = (y_positions[chrom], height)\n",
      "        xranges = group[['start', 'width']].values\n",
      "        yield BrokenBarHCollection(\n",
      "            xranges, yrange, facecolors=df['colors'], **kwargs)\n",
      "    if del_width:\n",
      "        del df['width']\n",
      "\n",
      "\n",
      "# Height of each ideogram\n",
      "chrom_height = 1\n",
      "\n",
      "# Spacing between consecutive ideograms\n",
      "chrom_spacing = 1\n",
      "\n",
      "# Height of the gene track. Should be smaller than `chrom_spacing` in order to\n",
      "# fit correctly\n",
      "gene_height = 0.4\n",
      "\n",
      "# Padding between the top of a gene track and its corresponding ideogram\n",
      "gene_padding = 0.1\n",
      "\n",
      "# Width, height (in inches)\n",
      "#figsize = (6, 8)\n",
      "figsize = (12, 16)\n",
      "\n",
      "# Decide which chromosomes to use\n",
      "#chromosome_list = ['chr%s' % i for i in range(1, 23) + ['M', 'X', 'Y']]\n",
      "#chromosome_list = ['chr%s' % i for i in range(1, 23) ]\n",
      "chromosome_list = ['chr%s' % i for i in range(1, 23) ]\n",
      "#chromosome_list=['chr21']\n",
      "# Keep track of the y positions for ideograms and genes for each chromosome,\n",
      "# and the center of each ideogram (which is where we'll put the ytick labels)\n",
      "ybase = 0\n",
      "chrom_ybase = {}\n",
      "gene_ybase = {}\n",
      "chrom_centers = {}\n",
      "\n",
      "# Iterate in reverse so that items in the beginning of `chromosome_list` will\n",
      "# appear at the top of the plot\n",
      "for chrom in chromosome_list[::-1]:\n",
      "    chrom_ybase[chrom] = ybase\n",
      "    chrom_centers[chrom] = ybase + chrom_height / 2.\n",
      "    gene_ybase[chrom] = ybase - gene_height - gene_padding\n",
      "    ybase += chrom_height + chrom_spacing\n",
      "\n",
      "# Read in ideogram.txt, downloaded from UCSC Table Browser\n",
      "ideo = pandas.read_table(\n",
      "    'ideogram.txt',\n",
      "    skiprows=1,\n",
      "    names=['chrom', 'start', 'end', 'name', 'gieStain']\n",
      ")\n",
      "\n",
      "# Filter out chromosomes not in our list\n",
      "ideo = ideo[ideo.chrom.apply(lambda x: x in chromosome_list)]\n",
      "\n",
      "# Add a new column for width\n",
      "ideo['width'] = ideo.end - ideo.start\n",
      "\n",
      "# Colors for different chromosome stains\n",
      "color_lookup = {\n",
      "    'gneg': (1., 1., 1.),\n",
      "    'gpos25': (.6, .6, .6),\n",
      "    'gpos50': (.4, .4, .4),\n",
      "    'gpos75': (.2, .2, .2),\n",
      "    'gpos100': (0., 0., 0.),\n",
      "    'acen': (1., .4, .4),\n",
      "    'gvar': (.8, .8, .8),\n",
      "    'stalk': (.9, .9, .9),\n",
      "}\n",
      "\n",
      "# Add a new column for colors\n",
      "ideo['colors'] = ideo['gieStain'].apply(lambda x: color_lookup[x])\n",
      "\n",
      "\n",
      "# Same thing for genes\n",
      "genes = pandas.read_table(\n",
      "    input_file,\n",
      "    names=['chrom', 'start', 'end', 'name'],\n",
      "    usecols=range(4))\n",
      "genes = genes[genes.chrom.apply(lambda x: x in chromosome_list)]\n",
      "genes['width'] = genes.end - genes.start\n",
      "genes['colors'] = '#2243a8'\n",
      "\n",
      "\n",
      "fig = plt.figure(figsize=figsize)\n",
      "ax = fig.add_subplot(111)\n",
      "\n",
      "# Now all we have to do is call our function for the ideogram data...\n",
      "print(\"adding ideograms...\")\n",
      "for collection in chromosome_collections(ideo, chrom_ybase, chrom_height):\n",
      "    ax.add_collection(collection)\n",
      "\n",
      "# ...and the gene data\n",
      "print(\"adding genes...\")\n",
      "for collection in chromosome_collections(\n",
      "    genes, gene_ybase, gene_height, alpha=0.5, linewidths=0\n",
      "):\n",
      "    ax.add_collection(collection)\n",
      "\n",
      "# Axes tweaking\n",
      "ax.set_yticks([chrom_centers[i] for i in chromosome_list])\n",
      "ax.set_yticklabels(chromosome_list)\n",
      "ax.axis('tight')\n",
      "plt.show()"
     ],
     "language": "python",
     "metadata": {},
     "outputs": [
      {
       "output_type": "stream",
       "stream": "stdout",
       "text": [
        "adding ideograms...\n",
        "chr1\n",
        "chr10\n",
        "chr11"
       ]
      },
      {
       "output_type": "stream",
       "stream": "stdout",
       "text": [
        "\n",
        "chr12\n",
        "chr13"
       ]
      },
      {
       "output_type": "stream",
       "stream": "stdout",
       "text": [
        "\n",
        "chr14\n",
        "chr15"
       ]
      },
      {
       "output_type": "stream",
       "stream": "stdout",
       "text": [
        "\n",
        "chr16\n",
        "chr17"
       ]
      },
      {
       "output_type": "stream",
       "stream": "stdout",
       "text": [
        "\n",
        "chr18\n",
        "chr19"
       ]
      },
      {
       "output_type": "stream",
       "stream": "stdout",
       "text": [
        "\n",
        "chr2\n",
        "chr20"
       ]
      },
      {
       "output_type": "stream",
       "stream": "stdout",
       "text": [
        "\n",
        "chr21\n",
        "chr22"
       ]
      },
      {
       "output_type": "stream",
       "stream": "stdout",
       "text": [
        "\n",
        "chr3\n",
        "chr4"
       ]
      },
      {
       "output_type": "stream",
       "stream": "stdout",
       "text": [
        "\n",
        "chr5"
       ]
      },
      {
       "output_type": "stream",
       "stream": "stdout",
       "text": [
        "\n",
        "chr6"
       ]
      },
      {
       "output_type": "stream",
       "stream": "stdout",
       "text": [
        "\n",
        "chr7"
       ]
      },
      {
       "output_type": "stream",
       "stream": "stdout",
       "text": [
        "\n",
        "chr8"
       ]
      },
      {
       "output_type": "stream",
       "stream": "stdout",
       "text": [
        "\n",
        "chr9"
       ]
      },
      {
       "output_type": "stream",
       "stream": "stdout",
       "text": [
        "\n",
        "adding genes..."
       ]
      },
      {
       "output_type": "stream",
       "stream": "stdout",
       "text": [
        "\n",
        "chr1\n",
        "chr10"
       ]
      },
      {
       "output_type": "stream",
       "stream": "stdout",
       "text": [
        "\n",
        "chr11"
       ]
      },
      {
       "output_type": "stream",
       "stream": "stdout",
       "text": [
        "\n",
        "chr12"
       ]
      },
      {
       "output_type": "stream",
       "stream": "stdout",
       "text": [
        "\n",
        "chr13"
       ]
      },
      {
       "output_type": "stream",
       "stream": "stdout",
       "text": [
        "\n",
        "chr14"
       ]
      },
      {
       "output_type": "stream",
       "stream": "stdout",
       "text": [
        "\n",
        "chr15"
       ]
      },
      {
       "output_type": "stream",
       "stream": "stdout",
       "text": [
        "\n",
        "chr16"
       ]
      },
      {
       "output_type": "stream",
       "stream": "stdout",
       "text": [
        "\n",
        "chr17"
       ]
      },
      {
       "output_type": "stream",
       "stream": "stdout",
       "text": [
        "\n",
        "chr18"
       ]
      },
      {
       "output_type": "stream",
       "stream": "stdout",
       "text": [
        "\n",
        "chr19"
       ]
      },
      {
       "output_type": "stream",
       "stream": "stdout",
       "text": [
        "\n",
        "chr2"
       ]
      },
      {
       "output_type": "stream",
       "stream": "stdout",
       "text": [
        "\n",
        "chr20"
       ]
      },
      {
       "output_type": "stream",
       "stream": "stdout",
       "text": [
        "\n",
        "chr21"
       ]
      },
      {
       "output_type": "stream",
       "stream": "stdout",
       "text": [
        "\n",
        "chr22"
       ]
      },
      {
       "output_type": "stream",
       "stream": "stdout",
       "text": [
        "\n",
        "chr3"
       ]
      },
      {
       "output_type": "stream",
       "stream": "stdout",
       "text": [
        "\n",
        "chr4"
       ]
      },
      {
       "output_type": "stream",
       "stream": "stdout",
       "text": [
        "\n",
        "chr5"
       ]
      },
      {
       "output_type": "stream",
       "stream": "stdout",
       "text": [
        "\n",
        "chr6"
       ]
      },
      {
       "output_type": "stream",
       "stream": "stdout",
       "text": [
        "\n",
        "chr7"
       ]
      },
      {
       "output_type": "stream",
       "stream": "stdout",
       "text": [
        "\n",
        "chr8"
       ]
      },
      {
       "output_type": "stream",
       "stream": "stdout",
       "text": [
        "\n",
        "chr9"
       ]
      },
      {
       "output_type": "stream",
       "stream": "stdout",
       "text": [
        "\n"
       ]
      },
      {
       "metadata": {},
       "output_type": "display_data",
       "png": "[encoded data removed]",
       "text": [
        "<matplotlib.figure.Figure at 0x455cf10>"
       ]
      }
     ],
     "prompt_number": 8
    },
    {
     "cell_type": "code",
     "collapsed": false,
     "input": [
      "#!/usr/bin/env python\n",
      "\n",
      "\"\"\"\n",
      "Demonstrates plotting chromosome ideograms and genes (or any features, really)\n",
      "using matplotlib.\n",
      "1) Assumes a file from UCSC's Table Browser from the \"cytoBandIdeo\" table,\n",
      "saved as \"ideogram.txt\". Lines look like this::\n",
      "    #chrom  chromStart  chromEnd  name    gieStain\n",
      "    chr1    0           2300000   p36.33  gneg\n",
      "    chr1    2300000     5300000   p36.32  gpos25\n",
      "    chr1    5300000     7100000   p36.31  gneg\n",
      "2) Assumes another file, \"ucsc_genes.txt\", which is a BED format file\n",
      "   downloaded from UCSC's Table Browser. This script will work with any\n",
      "   BED-format file.\n",
      "\"\"\"\n",
      "\n",
      "from matplotlib import pyplot as plt\n",
      "from matplotlib.collections import BrokenBarHCollection\n",
      "import pandas\n",
      "input_file=\"test1.txt\"\n",
      "\n",
      "# Here's the function that we'll call for each dataframe (once for chromosome\n",
      "# ideograms, once for genes).  The rest of this script will be prepping data\n",
      "# for input to this function\n",
      "#\n",
      "def chromosome_collections(df, y_positions, height,  **kwargs):\n",
      "    \"\"\"\n",
      "    Yields BrokenBarHCollection of features that can be added to an Axes\n",
      "    object.\n",
      "    Parameters\n",
      "    ----------\n",
      "    df : pandas.DataFrame\n",
      "        Must at least have columns ['chrom', 'start', 'end', 'color']. If no\n",
      "        column 'width', it will be calculated from start/end.\n",
      "    y_positions : dict\n",
      "        Keys are chromosomes, values are y-value at which to anchor the\n",
      "        BrokenBarHCollection\n",
      "    height : float\n",
      "        Height of each BrokenBarHCollection\n",
      "    Additional kwargs are passed to BrokenBarHCollection\n",
      "    \"\"\"\n",
      "    del_width = False\n",
      "    if 'width' not in df.columns:\n",
      "        del_width = True\n",
      "        df['width'] = df['end'] - df['start']\n",
      "    for chrom, group in df.groupby('chrom'):\n",
      "        print chrom\n",
      "        yrange = (y_positions[chrom], height)\n",
      "        xranges = group[['start', 'width']].values\n",
      "        yield BrokenBarHCollection(\n",
      "            xranges, yrange, facecolors=df['colors'], **kwargs)\n",
      "    if del_width:\n",
      "        del df['width']\n",
      "\n",
      "\n",
      "# Height of each ideogram\n",
      "chrom_height = 1\n",
      "\n",
      "# Spacing between consecutive ideograms\n",
      "chrom_spacing = 1\n",
      "\n",
      "# Height of the gene track. Should be smaller than `chrom_spacing` in order to\n",
      "# fit correctly\n",
      "gene_height = 0.4\n",
      "\n",
      "# Padding between the top of a gene track and its corresponding ideogram\n",
      "gene_padding = 0.1\n",
      "\n",
      "# Width, height (in inches)\n",
      "#figsize = (6, 8)\n",
      "figsize = (12, 16)\n",
      "\n",
      "# Decide which chromosomes to use\n",
      "#chromosome_list = ['chr%s' % i for i in range(1, 23) + ['M', 'X', 'Y']]\n",
      "#chromosome_list = ['chr%s' % i for i in range(1, 23) ]\n",
      "chromosome_list = ['chr%s' % i for i in range(10, 23) ]\n",
      "#chromosome_list=['chr21']\n",
      "# Keep track of the y positions for ideograms and genes for each chromosome,\n",
      "# and the center of each ideogram (which is where we'll put the ytick labels)\n",
      "ybase = 0\n",
      "chrom_ybase = {}\n",
      "gene_ybase = {}\n",
      "chrom_centers = {}\n",
      "\n",
      "# Iterate in reverse so that items in the beginning of `chromosome_list` will\n",
      "# appear at the top of the plot\n",
      "for chrom in chromosome_list[::-1]:\n",
      "    chrom_ybase[chrom] = ybase\n",
      "    chrom_centers[chrom] = ybase + chrom_height / 2.\n",
      "    gene_ybase[chrom] = ybase - gene_height - gene_padding\n",
      "    ybase += chrom_height + chrom_spacing\n",
      "\n",
      "# Read in ideogram.txt, downloaded from UCSC Table Browser\n",
      "ideo = pandas.read_table(\n",
      "    'ideogram.txt',\n",
      "    skiprows=1,\n",
      "    names=['chrom', 'start', 'end', 'name', 'gieStain']\n",
      ")\n",
      "\n",
      "# Filter out chromosomes not in our list\n",
      "ideo = ideo[ideo.chrom.apply(lambda x: x in chromosome_list)]\n",
      "\n",
      "# Add a new column for width\n",
      "ideo['width'] = ideo.end - ideo.start\n",
      "\n",
      "# Colors for different chromosome stains\n",
      "color_lookup = {\n",
      "    'gneg': (1., 1., 1.),\n",
      "    'gpos25': (.6, .6, .6),\n",
      "    'gpos50': (.4, .4, .4),\n",
      "    'gpos75': (.2, .2, .2),\n",
      "    'gpos100': (0., 0., 0.),\n",
      "    'acen': (1., .0, .0),\n",
      "    'gvar': (.8, .8, .8),\n",
      "    'stalk': (.9, .9, .9),\n",
      "}\n",
      "\n",
      "# Add a new column for colors\n",
      "ideo['colors'] = ideo['gieStain'].apply(lambda x: color_lookup[x])\n",
      "\n",
      "\n",
      "# Same thing for genes\n",
      "genes = pandas.read_table(\n",
      "    input_file,\n",
      "    names=['chrom', 'start', 'end', 'name'],\n",
      "    usecols=range(4))\n",
      "genes = genes[genes.chrom.apply(lambda x: x in chromosome_list)]\n",
      "genes['width'] = genes.end - genes.start\n",
      "genes['colors'] = '#2243a8'\n",
      "\n",
      "\n",
      "fig = plt.figure(figsize=figsize)\n",
      "ax = fig.add_subplot(111)\n",
      "\n",
      "# Now all we have to do is call our function for the ideogram data...\n",
      "print(\"adding ideograms...\")\n",
      "for collection in chromosome_collections(ideo, chrom_ybase, chrom_height):\n",
      "    ax.add_collection(collection)\n",
      "\n",
      "# ...and the gene data\n",
      "print(\"adding genes...\")\n",
      "for collection in chromosome_collections(\n",
      "    genes, gene_ybase, gene_height, alpha=0.5, linewidths=0\n",
      "):\n",
      "    ax.add_collection(collection)\n",
      "\n",
      "# Axes tweaking\n",
      "ax.set_yticks([chrom_centers[i] for i in chromosome_list])\n",
      "ax.set_yticklabels(chromosome_list)\n",
      "ax.axis('tight')\n",
      "plt.show()"
     ],
     "language": "python",
     "metadata": {},
     "outputs": [
      {
       "output_type": "stream",
       "stream": "stdout",
       "text": [
        "adding ideograms...\n",
        "chr10\n",
        "chr11\n",
        "chr12"
       ]
      },
      {
       "output_type": "stream",
       "stream": "stdout",
       "text": [
        "\n",
        "chr13\n",
        "chr14"
       ]
      },
      {
       "output_type": "stream",
       "stream": "stdout",
       "text": [
        "\n",
        "chr15\n",
        "chr16"
       ]
      },
      {
       "output_type": "stream",
       "stream": "stdout",
       "text": [
        "\n",
        "chr17\n",
        "chr18"
       ]
      },
      {
       "output_type": "stream",
       "stream": "stdout",
       "text": [
        "\n",
        "chr19\n",
        "chr20"
       ]
      },
      {
       "output_type": "stream",
       "stream": "stdout",
       "text": [
        "\n",
        "chr21"
       ]
      },
      {
       "output_type": "stream",
       "stream": "stdout",
       "text": [
        "\n",
        "chr22"
       ]
      },
      {
       "output_type": "stream",
       "stream": "stdout",
       "text": [
        "\n",
        "adding genes..."
       ]
      },
      {
       "output_type": "stream",
       "stream": "stdout",
       "text": [
        "\n",
        "chr10\n",
        "chr11"
       ]
      },
      {
       "output_type": "stream",
       "stream": "stdout",
       "text": [
        "\n",
        "chr12"
       ]
      },
      {
       "output_type": "stream",
       "stream": "stdout",
       "text": [
        "\n",
        "chr13\n",
        "chr14"
       ]
      },
      {
       "output_type": "stream",
       "stream": "stdout",
       "text": [
        "\n",
        "chr15"
       ]
      },
      {
       "output_type": "stream",
       "stream": "stdout",
       "text": [
        "\n",
        "chr16"
       ]
      },
      {
       "output_type": "stream",
       "stream": "stdout",
       "text": [
        "\n",
        "chr17"
       ]
      },
      {
       "output_type": "stream",
       "stream": "stdout",
       "text": [
        "\n",
        "chr18"
       ]
      },
      {
       "output_type": "stream",
       "stream": "stdout",
       "text": [
        "\n",
        "chr19\n",
        "chr20"
       ]
      },
      {
       "output_type": "stream",
       "stream": "stdout",
       "text": [
        "\n",
        "chr21\n",
        "chr22"
       ]
      },
      {
       "output_type": "stream",
       "stream": "stdout",
       "text": [
        "\n"
       ]
      },
      {
       "metadata": {},
       "output_type": "display_data",
       "png": "[encoded data removed]",
       "text": [
        "<matplotlib.figure.Figure at 0x5935210>"
       ]
      }
     ],
     "prompt_number": 13
    },
    {
     "cell_type": "code",
     "collapsed": false,
     "input": [],
     "language": "python",
     "metadata": {},
     "outputs": []
    }
   ],
   "metadata": {}
  }
 ]
}