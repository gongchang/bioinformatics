{
 "metadata": {
  "name": ""
 },
 "nbformat": 3,
 "nbformat_minor": 0,
 "worksheets": [
  {
   "cells": [
    {
     "cell_type": "code",
     "collapsed": false,
     "input": [
      "print \"<plot>\\n \\\n",
      "    show = yes\\n \\\n",
      "    type = histogram\\n \\\n",
      "    file = /home/zzhang1/test_code/PCGP_hg19_processing/summary_loh_germline_SJEWS010375_color_selection_100K.txt.circos\\n \\\n",
      "    r0 = %s\\n \\\n",
      "    r1 = 0.8r\\n \\\n",
      "    background = yes\" % (\"haha\")"
     ],
     "language": "python",
     "metadata": {},
     "outputs": [
      {
       "output_type": "stream",
       "stream": "stdout",
       "text": [
        "<plot>\n",
        "     show = yes\n",
        "     type = histogram\n",
        "     file = /home/zzhang1/test_code/PCGP_hg19_processing/summary_loh_germline_SJEWS010375_color_selection_100K.txt.circos\n",
        "     r0 = haha\n",
        "     r1 = 0.8r\n",
        "     background = yes\n"
       ]
      }
     ],
     "prompt_number": 4
    },
    {
     "cell_type": "code",
     "collapsed": false,
     "input": [],
     "language": "python",
     "metadata": {},
     "outputs": []
    }
   ],
   "metadata": {}
  }
 ]
}