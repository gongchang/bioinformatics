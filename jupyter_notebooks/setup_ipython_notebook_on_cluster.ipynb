{
 "metadata": {
  "name": ""
 },
 "nbformat": 3,
 "nbformat_minor": 0,
 "worksheets": [
  {
   "cells": [
    {
     "cell_type": "markdown",
     "metadata": {},
     "source": [
      "setup ipython notebook on erus"
     ]
    },
    {
     "cell_type": "raw",
     "metadata": {},
     "source": [
      "step 1: install ipython on the cluster\n",
      "Since I do not have root permission, I just installed ipython, tornado and pyzmy in the home directory like this:"
     ]
    },
    {
     "cell_type": "code",
     "collapsed": false,
     "input": [
      "python setup.py install --prefix=~/local"
     ],
     "language": "python",
     "metadata": {},
     "outputs": []
    },
    {
     "cell_type": "raw",
     "metadata": {},
     "source": [
      "step 2: launch ipython notebook from within erus(the computer cluster)"
     ]
    },
    {
     "cell_type": "code",
     "collapsed": false,
     "input": [
      "ipython notebook --pylab=inline"
     ],
     "language": "python",
     "metadata": {},
     "outputs": []
    },
    {
     "cell_type": "raw",
     "metadata": {},
     "source": [
      "After it is launched, it printed something like this: "
     ]
    },
    {
     "cell_type": "markdown",
     "metadata": {},
     "source": [
      "The IPython Notebook is running at: http://127.0.0.2:8888/"
     ]
    },
    {
     "cell_type": "markdown",
     "metadata": {},
     "source": [
      "Step3: go to the local dekstop computer (in my case, it is a mac), open the terminal and use SSH tunnel to port ipython notebook from the cluster like this:"
     ]
    },
    {
     "cell_type": "code",
     "collapsed": false,
     "input": [
      "ssh -N -f -L localhost:8878:127.0.0.2:8888 zzhang1@erus03"
     ],
     "language": "python",
     "metadata": {},
     "outputs": []
    },
    {
     "cell_type": "markdown",
     "metadata": {},
     "source": [
      "Step 4, now it is time to access ipython notebook from my desktop computer by pasting the following link to the browser "
     ]
    },
    {
     "cell_type": "code",
     "collapsed": false,
     "input": [
      "localhost:8878"
     ],
     "language": "python",
     "metadata": {},
     "outputs": []
    }
   ],
   "metadata": {}
  }
 ]
}