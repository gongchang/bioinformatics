{
 "metadata": {
  "name": ""
 },
 "nbformat": 3,
 "nbformat_minor": 0,
 "worksheets": [
  {
   "cells": [
    {
     "cell_type": "code",
     "collapsed": false,
     "input": [
      "#%matplotlib inline\n",
      "#or pylab inline, both work\n",
      "a=2\n",
      "print a"
     ],
     "language": "python",
     "metadata": {},
     "outputs": [],
     "prompt_number": "*"
    },
    {
     "cell_type": "code",
     "collapsed": false,
     "input": [
      "%matplotlib inline\n",
      "#import matplotlib\n",
      "import numpy as np\n",
      "#import matplotlib.pyplot as plt\n",
      "import pylab as plt\n",
      "import mpld3"
     ],
     "language": "python",
     "metadata": {},
     "outputs": [],
     "prompt_number": "*"
    },
    {
     "cell_type": "code",
     "collapsed": false,
     "input": [
      "a=[2,3]\n",
      "b=[3,4]\n",
      "fig,ax=plt.subplots()\n",
      "plot1=ax.scatter(a,b)\n",
      "labels=[\"point1\",\"point2\"]\n",
      "tooltip=mpld3.plugins.PointLabelTooltip(plot1,labels=labels)\n",
      "mpld3.plugins.connect(fig,tooltip)\n",
      "mpld3.display(fig) "
     ],
     "language": "python",
     "metadata": {},
     "outputs": [],
     "prompt_number": "*"
    },
    {
     "cell_type": "code",
     "collapsed": false,
     "input": [
      "mpld3.enable_notebook()   # to use mpld3 in every figure that I make"
     ],
     "language": "python",
     "metadata": {},
     "outputs": [],
     "prompt_number": "*"
    },
    {
     "cell_type": "code",
     "collapsed": false,
     "input": [
      "fig2,ax2=plt.subplots()\n",
      "ax2.grid(color='white',linestyle='solid')\n",
      "\n",
      "x=np.random.normal(size=1000)\n",
      "y=np.random.normal(size=300)\n",
      "ax2.hist(x,30, histtype='stepfilled', fc='lightblue', alpha=0.5);   #semicolon suppresses terminal output\n",
      "ax2.hist(y,30, histtype='stepfilled', fc='red', alpha=0.5);\n",
      "#to learn about the parameters of the matpltlib histogram use:\n",
      "#help(plt.hist)"
     ],
     "language": "python",
     "metadata": {},
     "outputs": [],
     "prompt_number": "*"
    },
    {
     "cell_type": "code",
     "collapsed": false,
     "input": [
      "fig3, ax3 = plt.subplots();\n",
      "x = np.linspace(-5, 15, 50)\n",
      "handles=[]\n",
      "for i in [1,2,3]:\n",
      "    y=[j+i for j in map(abs,x)]\n",
      "    label1=\"line %s\" % (i)\n",
      "    ax3.plot(x,y,lw=5,alpha=0.4,label=label1)\n",
      "ax3.grid(color='lightgray', alpha=0.7)\n",
      "ax3.legend()"
     ],
     "language": "python",
     "metadata": {},
     "outputs": [],
     "prompt_number": "*"
    },
    {
     "cell_type": "code",
     "collapsed": false,
     "input": [
      "#mpld3.disable_notebook()\n",
      "mpld3.enable_notebook()\n",
      "fig4, ax4 = plt.subplots()\n",
      "y_values=np.random.rand(40)\n",
      "size=[(i+1)**2 for i in range(40)]  #can also be used for the x range\n",
      "colors=[]\n",
      "for i in range(40):\n",
      "    if y_values[i]>0.5:\n",
      "        color='red'\n",
      "    elif y_values[i]>0.2:\n",
      "        color='blue'\n",
      "    else:\n",
      "        color='green'\n",
      "    colors.append(color)\n",
      "points = ax4.scatter(size, y_values, c=colors,linewidths=0,alpha=0.5) #,alpha=0.5,cmap=plt.cm.jet,s=size,\n",
      "labels=[]\n",
      "for i in range(40):\n",
      "    label=\"point %s\" % (i+1)\n",
      "    labels.append(label)\n",
      "tooltip4 = mpld3.plugins.PointLabelTooltip(points, labels)\n",
      "mpld3.plugins.connect(fig4, tooltip4)"
     ],
     "language": "python",
     "metadata": {},
     "outputs": [
      {
       "html": [
        "\n",
        "\n",
        "<style>\n",
        "\n",
        "</style>\n",
        "\n",
        "<div id=\"fig_el5941758254887835852132\"></div>\n",
        "<script>\n",
        "function mpld3_load_lib(url, callback){\n",
        "  var s = document.createElement('script');\n",
        "  s.src = url;\n",
        "  s.async = true;\n",
        "  s.onreadystatechange = s.onload = callback;\n",
        "  s.onerror = function(){console.warn(\"failed to load library \" + url);};\n",
        "  document.getElementsByTagName(\"head\")[0].appendChild(s);\n",
        "}\n",
        "\n",
        "if(typeof(mpld3) !== \"undefined\" && mpld3._mpld3IsLoaded){\n",
        "   // already loaded: just create the figure\n",
        "   !function(mpld3){\n",
        "       \n",
        "       mpld3.draw_figure(\"fig_el5941758254887835852132\", {\"axes\": [{\"xlim\": [-500.0, 2000.0], \"yscale\": \"linear\", \"axesbg\": \"#FFFFFF\", \"texts\": [], \"zoomable\": true, \"images\": [], \"xdomain\": [-500.0, 2000.0], \"ylim\": [-0.20000000000000001, 1.2000000000000002], \"paths\": [], \"sharey\": [], \"sharex\": [], \"axesbgalpha\": null, \"axes\": [{\"scale\": \"linear\", \"tickformat\": null, \"grid\": {\"gridOn\": false}, \"fontsize\": 10.0, \"position\": \"bottom\", \"nticks\": 6, \"tickvalues\": null}, {\"scale\": \"linear\", \"tickformat\": null, \"grid\": {\"gridOn\": false}, \"fontsize\": 10.0, \"position\": \"left\", \"nticks\": 9, \"tickvalues\": null}], \"lines\": [], \"markers\": [], \"id\": \"el594175826064\", \"ydomain\": [-0.20000000000000001, 1.2000000000000002], \"collections\": [{\"paths\": [[[[0.0, -0.5], [0.13260155000000001, -0.5], [0.25978993539242673, -0.44731684579412084], [0.35355339059327379, -0.35355339059327379], [0.44731684579412084, -0.25978993539242673], [0.5, -0.13260155000000001], [0.5, 0.0], [0.5, 0.13260155000000001], [0.44731684579412084, 0.25978993539242673], [0.35355339059327379, 0.35355339059327379], [0.25978993539242673, 0.44731684579412084], [0.13260155000000001, 0.5], [0.0, 0.5], [-0.13260155000000001, 0.5], [-0.25978993539242673, 0.44731684579412084], [-0.35355339059327379, 0.35355339059327379], [-0.44731684579412084, 0.25978993539242673], [-0.5, 0.13260155000000001], [-0.5, 0.0], [-0.5, -0.13260155000000001], [-0.44731684579412084, -0.25978993539242673], [-0.35355339059327379, -0.35355339059327379], [-0.25978993539242673, -0.44731684579412084], [-0.13260155000000001, -0.5], [0.0, -0.5]], [\"M\", \"C\", \"C\", \"C\", \"C\", \"C\", \"C\", \"C\", \"C\", \"Z\"]]], \"edgecolors\": [\"#000000\"], \"edgewidths\": [0.0], \"offsets\": \"data01\", \"yindex\": 1, \"id\": \"el594175622800\", \"pathtransforms\": [[4.9690399499995328, 0.0, 0.0, 4.9690399499995328, 0.0, 0.0]], \"pathcoordinates\": \"display\", \"offsetcoordinates\": \"data\", \"zorder\": 1, \"xindex\": 0, \"alphas\": [0.5], \"facecolors\": [\"#FF0000\", \"#FF0000\", \"#FF0000\", \"#0000FF\", \"#FF0000\", \"#FF0000\", \"#008000\", \"#008000\", \"#0000FF\", \"#FF0000\", \"#FF0000\", \"#008000\", \"#FF0000\", \"#FF0000\", \"#FF0000\", \"#FF0000\", \"#FF0000\", \"#0000FF\", \"#0000FF\", \"#FF0000\", \"#FF0000\", \"#FF0000\", \"#FF0000\", \"#FF0000\", \"#FF0000\", \"#FF0000\", \"#0000FF\", \"#0000FF\", \"#008000\", \"#0000FF\", \"#008000\", \"#0000FF\", \"#FF0000\", \"#008000\", \"#FF0000\", \"#0000FF\", \"#FF0000\", \"#FF0000\", \"#0000FF\", \"#0000FF\"]}], \"xscale\": \"linear\", \"bbox\": [0.125, 0.125, 0.77500000000000002, 0.77500000000000002]}], \"height\": 320.0, \"width\": 480.0, \"plugins\": [{\"type\": \"reset\"}, {\"enabled\": false, \"button\": true, \"type\": \"zoom\"}, {\"enabled\": false, \"button\": true, \"type\": \"boxzoom\"}, {\"voffset\": 10, \"labels\": [\"point 1\", \"point 2\", \"point 3\", \"point 4\", \"point 5\", \"point 6\", \"point 7\", \"point 8\", \"point 9\", \"point 10\", \"point 11\", \"point 12\", \"point 13\", \"point 14\", \"point 15\", \"point 16\", \"point 17\", \"point 18\", \"point 19\", \"point 20\", \"point 21\", \"point 22\", \"point 23\", \"point 24\", \"point 25\", \"point 26\", \"point 27\", \"point 28\", \"point 29\", \"point 30\", \"point 31\", \"point 32\", \"point 33\", \"point 34\", \"point 35\", \"point 36\", \"point 37\", \"point 38\", \"point 39\", \"point 40\"], \"hoffset\": 0, \"location\": \"mouse\", \"type\": \"tooltip\", \"id\": \"el594175622800\"}], \"data\": {\"data01\": [[1.0, 0.95270028630568637], [4.0, 0.61297491137496574], [9.0, 0.89830471094501441], [16.0, 0.23080891218135213], [25.0, 0.79914286841580096], [36.0, 0.89123046460965494], [49.0, 0.1707331688629149], [64.0, 0.024589513820686415], [81.0, 0.27644408440155877], [100.0, 0.86757158944700341], [121.0, 0.65416813257780038], [144.0, 0.049821840785544191], [169.0, 0.78118074734915655], [196.0, 0.95960089311976426], [225.0, 0.6774809976971603], [256.0, 0.68166201258852432], [289.0, 0.97437753075651412], [324.0, 0.46062759908698714], [361.0, 0.26785637856847844], [400.0, 0.69867778228153365], [441.0, 0.81149121775259048], [484.0, 0.79472958095087443], [529.0, 0.76651675206270575], [576.0, 0.85379231452507254], [625.0, 0.53543574405386718], [676.0, 0.87102872895028516], [729.0, 0.47834975536607061], [784.0, 0.29781122584210662], [841.0, 0.19749767168601506], [900.0, 0.25995672511924728], [961.0, 0.093443812660026548], [1024.0, 0.41496773971879974], [1089.0, 0.7398165867623353], [1156.0, 0.14544439817404653], [1225.0, 0.85151725356442742], [1296.0, 0.4473987104639513], [1369.0, 0.6033638859528464], [1444.0, 0.87201625389445203], [1521.0, 0.24302794688591089], [1600.0, 0.25829486664160373]]}, \"id\": \"el594175825488\"});\n",
        "   }(mpld3);\n",
        "}else if(typeof define === \"function\" && define.amd){\n",
        "   // require.js is available: use it to load d3/mpld3\n",
        "   require.config({paths: {d3: \"https://mpld3.github.io/js/d3.v3.min\"}});\n",
        "   require([\"d3\"], function(d3){\n",
        "      window.d3 = d3;\n",
        "      mpld3_load_lib(\"https://mpld3.github.io/js/mpld3.v0.3git.js\", function(){\n",
        "         \n",
        "         mpld3.draw_figure(\"fig_el5941758254887835852132\", {\"axes\": [{\"xlim\": [-500.0, 2000.0], \"yscale\": \"linear\", \"axesbg\": \"#FFFFFF\", \"texts\": [], \"zoomable\": true, \"images\": [], \"xdomain\": [-500.0, 2000.0], \"ylim\": [-0.20000000000000001, 1.2000000000000002], \"paths\": [], \"sharey\": [], \"sharex\": [], \"axesbgalpha\": null, \"axes\": [{\"scale\": \"linear\", \"tickformat\": null, \"grid\": {\"gridOn\": false}, \"fontsize\": 10.0, \"position\": \"bottom\", \"nticks\": 6, \"tickvalues\": null}, {\"scale\": \"linear\", \"tickformat\": null, \"grid\": {\"gridOn\": false}, \"fontsize\": 10.0, \"position\": \"left\", \"nticks\": 9, \"tickvalues\": null}], \"lines\": [], \"markers\": [], \"id\": \"el594175826064\", \"ydomain\": [-0.20000000000000001, 1.2000000000000002], \"collections\": [{\"paths\": [[[[0.0, -0.5], [0.13260155000000001, -0.5], [0.25978993539242673, -0.44731684579412084], [0.35355339059327379, -0.35355339059327379], [0.44731684579412084, -0.25978993539242673], [0.5, -0.13260155000000001], [0.5, 0.0], [0.5, 0.13260155000000001], [0.44731684579412084, 0.25978993539242673], [0.35355339059327379, 0.35355339059327379], [0.25978993539242673, 0.44731684579412084], [0.13260155000000001, 0.5], [0.0, 0.5], [-0.13260155000000001, 0.5], [-0.25978993539242673, 0.44731684579412084], [-0.35355339059327379, 0.35355339059327379], [-0.44731684579412084, 0.25978993539242673], [-0.5, 0.13260155000000001], [-0.5, 0.0], [-0.5, -0.13260155000000001], [-0.44731684579412084, -0.25978993539242673], [-0.35355339059327379, -0.35355339059327379], [-0.25978993539242673, -0.44731684579412084], [-0.13260155000000001, -0.5], [0.0, -0.5]], [\"M\", \"C\", \"C\", \"C\", \"C\", \"C\", \"C\", \"C\", \"C\", \"Z\"]]], \"edgecolors\": [\"#000000\"], \"edgewidths\": [0.0], \"offsets\": \"data01\", \"yindex\": 1, \"id\": \"el594175622800\", \"pathtransforms\": [[4.9690399499995328, 0.0, 0.0, 4.9690399499995328, 0.0, 0.0]], \"pathcoordinates\": \"display\", \"offsetcoordinates\": \"data\", \"zorder\": 1, \"xindex\": 0, \"alphas\": [0.5], \"facecolors\": [\"#FF0000\", \"#FF0000\", \"#FF0000\", \"#0000FF\", \"#FF0000\", \"#FF0000\", \"#008000\", \"#008000\", \"#0000FF\", \"#FF0000\", \"#FF0000\", \"#008000\", \"#FF0000\", \"#FF0000\", \"#FF0000\", \"#FF0000\", \"#FF0000\", \"#0000FF\", \"#0000FF\", \"#FF0000\", \"#FF0000\", \"#FF0000\", \"#FF0000\", \"#FF0000\", \"#FF0000\", \"#FF0000\", \"#0000FF\", \"#0000FF\", \"#008000\", \"#0000FF\", \"#008000\", \"#0000FF\", \"#FF0000\", \"#008000\", \"#FF0000\", \"#0000FF\", \"#FF0000\", \"#FF0000\", \"#0000FF\", \"#0000FF\"]}], \"xscale\": \"linear\", \"bbox\": [0.125, 0.125, 0.77500000000000002, 0.77500000000000002]}], \"height\": 320.0, \"width\": 480.0, \"plugins\": [{\"type\": \"reset\"}, {\"enabled\": false, \"button\": true, \"type\": \"zoom\"}, {\"enabled\": false, \"button\": true, \"type\": \"boxzoom\"}, {\"voffset\": 10, \"labels\": [\"point 1\", \"point 2\", \"point 3\", \"point 4\", \"point 5\", \"point 6\", \"point 7\", \"point 8\", \"point 9\", \"point 10\", \"point 11\", \"point 12\", \"point 13\", \"point 14\", \"point 15\", \"point 16\", \"point 17\", \"point 18\", \"point 19\", \"point 20\", \"point 21\", \"point 22\", \"point 23\", \"point 24\", \"point 25\", \"point 26\", \"point 27\", \"point 28\", \"point 29\", \"point 30\", \"point 31\", \"point 32\", \"point 33\", \"point 34\", \"point 35\", \"point 36\", \"point 37\", \"point 38\", \"point 39\", \"point 40\"], \"hoffset\": 0, \"location\": \"mouse\", \"type\": \"tooltip\", \"id\": \"el594175622800\"}], \"data\": {\"data01\": [[1.0, 0.95270028630568637], [4.0, 0.61297491137496574], [9.0, 0.89830471094501441], [16.0, 0.23080891218135213], [25.0, 0.79914286841580096], [36.0, 0.89123046460965494], [49.0, 0.1707331688629149], [64.0, 0.024589513820686415], [81.0, 0.27644408440155877], [100.0, 0.86757158944700341], [121.0, 0.65416813257780038], [144.0, 0.049821840785544191], [169.0, 0.78118074734915655], [196.0, 0.95960089311976426], [225.0, 0.6774809976971603], [256.0, 0.68166201258852432], [289.0, 0.97437753075651412], [324.0, 0.46062759908698714], [361.0, 0.26785637856847844], [400.0, 0.69867778228153365], [441.0, 0.81149121775259048], [484.0, 0.79472958095087443], [529.0, 0.76651675206270575], [576.0, 0.85379231452507254], [625.0, 0.53543574405386718], [676.0, 0.87102872895028516], [729.0, 0.47834975536607061], [784.0, 0.29781122584210662], [841.0, 0.19749767168601506], [900.0, 0.25995672511924728], [961.0, 0.093443812660026548], [1024.0, 0.41496773971879974], [1089.0, 0.7398165867623353], [1156.0, 0.14544439817404653], [1225.0, 0.85151725356442742], [1296.0, 0.4473987104639513], [1369.0, 0.6033638859528464], [1444.0, 0.87201625389445203], [1521.0, 0.24302794688591089], [1600.0, 0.25829486664160373]]}, \"id\": \"el594175825488\"});\n",
        "      });\n",
        "    });\n",
        "}else{\n",
        "    // require.js not available: dynamically load d3 & mpld3\n",
        "    mpld3_load_lib(\"https://mpld3.github.io/js/d3.v3.min.js\", function(){\n",
        "         mpld3_load_lib(\"https://mpld3.github.io/js/mpld3.v0.3git.js\", function(){\n",
        "                 \n",
        "                 mpld3.draw_figure(\"fig_el5941758254887835852132\", {\"axes\": [{\"xlim\": [-500.0, 2000.0], \"yscale\": \"linear\", \"axesbg\": \"#FFFFFF\", \"texts\": [], \"zoomable\": true, \"images\": [], \"xdomain\": [-500.0, 2000.0], \"ylim\": [-0.20000000000000001, 1.2000000000000002], \"paths\": [], \"sharey\": [], \"sharex\": [], \"axesbgalpha\": null, \"axes\": [{\"scale\": \"linear\", \"tickformat\": null, \"grid\": {\"gridOn\": false}, \"fontsize\": 10.0, \"position\": \"bottom\", \"nticks\": 6, \"tickvalues\": null}, {\"scale\": \"linear\", \"tickformat\": null, \"grid\": {\"gridOn\": false}, \"fontsize\": 10.0, \"position\": \"left\", \"nticks\": 9, \"tickvalues\": null}], \"lines\": [], \"markers\": [], \"id\": \"el594175826064\", \"ydomain\": [-0.20000000000000001, 1.2000000000000002], \"collections\": [{\"paths\": [[[[0.0, -0.5], [0.13260155000000001, -0.5], [0.25978993539242673, -0.44731684579412084], [0.35355339059327379, -0.35355339059327379], [0.44731684579412084, -0.25978993539242673], [0.5, -0.13260155000000001], [0.5, 0.0], [0.5, 0.13260155000000001], [0.44731684579412084, 0.25978993539242673], [0.35355339059327379, 0.35355339059327379], [0.25978993539242673, 0.44731684579412084], [0.13260155000000001, 0.5], [0.0, 0.5], [-0.13260155000000001, 0.5], [-0.25978993539242673, 0.44731684579412084], [-0.35355339059327379, 0.35355339059327379], [-0.44731684579412084, 0.25978993539242673], [-0.5, 0.13260155000000001], [-0.5, 0.0], [-0.5, -0.13260155000000001], [-0.44731684579412084, -0.25978993539242673], [-0.35355339059327379, -0.35355339059327379], [-0.25978993539242673, -0.44731684579412084], [-0.13260155000000001, -0.5], [0.0, -0.5]], [\"M\", \"C\", \"C\", \"C\", \"C\", \"C\", \"C\", \"C\", \"C\", \"Z\"]]], \"edgecolors\": [\"#000000\"], \"edgewidths\": [0.0], \"offsets\": \"data01\", \"yindex\": 1, \"id\": \"el594175622800\", \"pathtransforms\": [[4.9690399499995328, 0.0, 0.0, 4.9690399499995328, 0.0, 0.0]], \"pathcoordinates\": \"display\", \"offsetcoordinates\": \"data\", \"zorder\": 1, \"xindex\": 0, \"alphas\": [0.5], \"facecolors\": [\"#FF0000\", \"#FF0000\", \"#FF0000\", \"#0000FF\", \"#FF0000\", \"#FF0000\", \"#008000\", \"#008000\", \"#0000FF\", \"#FF0000\", \"#FF0000\", \"#008000\", \"#FF0000\", \"#FF0000\", \"#FF0000\", \"#FF0000\", \"#FF0000\", \"#0000FF\", \"#0000FF\", \"#FF0000\", \"#FF0000\", \"#FF0000\", \"#FF0000\", \"#FF0000\", \"#FF0000\", \"#FF0000\", \"#0000FF\", \"#0000FF\", \"#008000\", \"#0000FF\", \"#008000\", \"#0000FF\", \"#FF0000\", \"#008000\", \"#FF0000\", \"#0000FF\", \"#FF0000\", \"#FF0000\", \"#0000FF\", \"#0000FF\"]}], \"xscale\": \"linear\", \"bbox\": [0.125, 0.125, 0.77500000000000002, 0.77500000000000002]}], \"height\": 320.0, \"width\": 480.0, \"plugins\": [{\"type\": \"reset\"}, {\"enabled\": false, \"button\": true, \"type\": \"zoom\"}, {\"enabled\": false, \"button\": true, \"type\": \"boxzoom\"}, {\"voffset\": 10, \"labels\": [\"point 1\", \"point 2\", \"point 3\", \"point 4\", \"point 5\", \"point 6\", \"point 7\", \"point 8\", \"point 9\", \"point 10\", \"point 11\", \"point 12\", \"point 13\", \"point 14\", \"point 15\", \"point 16\", \"point 17\", \"point 18\", \"point 19\", \"point 20\", \"point 21\", \"point 22\", \"point 23\", \"point 24\", \"point 25\", \"point 26\", \"point 27\", \"point 28\", \"point 29\", \"point 30\", \"point 31\", \"point 32\", \"point 33\", \"point 34\", \"point 35\", \"point 36\", \"point 37\", \"point 38\", \"point 39\", \"point 40\"], \"hoffset\": 0, \"location\": \"mouse\", \"type\": \"tooltip\", \"id\": \"el594175622800\"}], \"data\": {\"data01\": [[1.0, 0.95270028630568637], [4.0, 0.61297491137496574], [9.0, 0.89830471094501441], [16.0, 0.23080891218135213], [25.0, 0.79914286841580096], [36.0, 0.89123046460965494], [49.0, 0.1707331688629149], [64.0, 0.024589513820686415], [81.0, 0.27644408440155877], [100.0, 0.86757158944700341], [121.0, 0.65416813257780038], [144.0, 0.049821840785544191], [169.0, 0.78118074734915655], [196.0, 0.95960089311976426], [225.0, 0.6774809976971603], [256.0, 0.68166201258852432], [289.0, 0.97437753075651412], [324.0, 0.46062759908698714], [361.0, 0.26785637856847844], [400.0, 0.69867778228153365], [441.0, 0.81149121775259048], [484.0, 0.79472958095087443], [529.0, 0.76651675206270575], [576.0, 0.85379231452507254], [625.0, 0.53543574405386718], [676.0, 0.87102872895028516], [729.0, 0.47834975536607061], [784.0, 0.29781122584210662], [841.0, 0.19749767168601506], [900.0, 0.25995672511924728], [961.0, 0.093443812660026548], [1024.0, 0.41496773971879974], [1089.0, 0.7398165867623353], [1156.0, 0.14544439817404653], [1225.0, 0.85151725356442742], [1296.0, 0.4473987104639513], [1369.0, 0.6033638859528464], [1444.0, 0.87201625389445203], [1521.0, 0.24302794688591089], [1600.0, 0.25829486664160373]]}, \"id\": \"el594175825488\"});\n",
        "            })\n",
        "         });\n",
        "}\n",
        "</script>"
       ],
       "metadata": {},
       "output_type": "display_data",
       "png": "[encoded data removed]",
       "text": [
        "<matplotlib.figure.Figure at 0x4850150>"
       ]
      }
     ],
     "prompt_number": 24
    },
    {
     "cell_type": "code",
     "collapsed": false,
     "input": [
      "import scipy"
     ],
     "language": "python",
     "metadata": {},
     "outputs": [],
     "prompt_number": 77
    },
    {
     "cell_type": "code",
     "collapsed": false,
     "input": [
      "help(plt.scatter)"
     ],
     "language": "python",
     "metadata": {},
     "outputs": [
      {
       "output_type": "stream",
       "stream": "stdout",
       "text": [
        "Help on function scatter in module matplotlib.pyplot:\n",
        "\n",
        "scatter(x, y, s=20, c='b', marker='o', cmap=None, norm=None, vmin=None, vmax=None, alpha=None, linewidths=None, verts=None, hold=None, **kwargs)\n",
        "    Make a scatter plot of x vs y, where x and y are sequence like objects\n",
        "    of the same lengths.\n",
        "    \n",
        "    Parameters\n",
        "    ----------\n",
        "    x, y : array_like, shape (n, )\n",
        "        Input data\n",
        "    \n",
        "    s : scalar or array_like, shape (n, ), optional, default: 20\n",
        "        size in points^2.\n",
        "    \n",
        "    c : color or sequence of color, optional, default : 'b'\n",
        "        `c` can be a single color format string, or a sequence of color\n",
        "        specifications of length `N`, or a sequence of `N` numbers to be\n",
        "        mapped to colors using the `cmap` and `norm` specified via kwargs\n",
        "        (see below). Note that `c` should not be a single numeric RGB or\n",
        "        RGBA sequence because that is indistinguishable from an array of\n",
        "        values to be colormapped.  `c` can be a 2-D array in which the\n",
        "        rows are RGB or RGBA, however.\n",
        "    \n",
        "    marker : `~matplotlib.markers.MarkerStyle`, optional, default: 'o'\n",
        "        See `~matplotlib.markers` for more information on the different\n",
        "        styles of markers scatter supports.\n",
        "    \n",
        "    cmap : `~matplotlib.colors.Colormap`, optional, default: None\n",
        "        A `~matplotlib.colors.Colormap` instance or registered name.\n",
        "        `cmap` is only used if `c` is an array of floats. If None,\n",
        "        defaults to rc `image.cmap`.\n",
        "    \n",
        "    norm : `~matplotlib.colors.Normalize`, optional, default: None\n",
        "        A `~matplotlib.colors.Normalize` instance is used to scale\n",
        "        luminance data to 0, 1. `norm` is only used if `c` is an array of\n",
        "        floats. If `None`, use the default :func:`normalize`.\n",
        "    \n",
        "    vmin, vmax : scalar, optional, default: None\n",
        "        `vmin` and `vmax` are used in conjunction with `norm` to normalize\n",
        "        luminance data.  If either are `None`, the min and max of the\n",
        "        color array is used.  Note if you pass a `norm` instance, your\n",
        "        settings for `vmin` and `vmax` will be ignored.\n",
        "    \n",
        "    alpha : scalar, optional, default: None\n",
        "        The alpha blending value, between 0 (transparent) and 1 (opaque)\n",
        "    \n",
        "    linewidths : scalar or array_like, optional, default: None\n",
        "        If None, defaults to (lines.linewidth,).  Note that this is a\n",
        "        tuple, and if you set the linewidths argument you must set it as a\n",
        "        sequence of floats, as required by\n",
        "        `~matplotlib.collections.RegularPolyCollection`.\n",
        "    \n",
        "    Returns\n",
        "    -------\n",
        "    paths : `~matplotlib.collections.PathCollection`\n",
        "    \n",
        "    Other parameters\n",
        "    ----------------\n",
        "    kwargs : `~matplotlib.collections.Collection` properties\n",
        "    \n",
        "    Notes\n",
        "    ------\n",
        "    Any or all of `x`, `y`, `s`, and `c` may be masked arrays, in\n",
        "    which case all masks will be combined and only unmasked points\n",
        "    will be plotted.\n",
        "    \n",
        "    Examples\n",
        "    --------\n",
        "    .. plot:: mpl_examples/shapes_and_collections/scatter_demo.py\n",
        "    \n",
        "    Additional kwargs: hold = [True|False] overrides default hold state\n",
        "\n"
       ]
      }
     ],
     "prompt_number": 10
    },
    {
     "cell_type": "code",
     "collapsed": false,
     "input": [],
     "language": "python",
     "metadata": {},
     "outputs": []
    }
   ],
   "metadata": {}
  }
 ]
}